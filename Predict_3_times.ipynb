{
 "cells": [
  {
   "cell_type": "code",
   "execution_count": null,
   "metadata": {
    "colab": {},
    "colab_type": "code",
    "id": "kJ7-PkFtydwQ"
   },
   "outputs": [],
   "source": [
    "import numpy as np\n",
    "import os\n",
    "from os.path import isfile\n",
    "\n",
    "\n",
    "import librosa\n",
    "import librosa.display\n",
    "import matplotlib.pyplot as plt\n",
    "%matplotlib inline"
   ]
  },
  {
   "cell_type": "markdown",
   "metadata": {
    "colab_type": "text",
    "id": "UTyAlwfUydwW"
   },
   "source": [
    "### Load a song"
   ]
  },
  {
   "cell_type": "code",
   "execution_count": null,
   "metadata": {
    "colab": {},
    "colab_type": "code",
    "id": "3qGea2HkydwX"
   },
   "outputs": [],
   "source": [
    "dict_genres = {'Electronic':0,  'Folk':1,  'Pop' :2, 'Instrumental':3 }\n",
    "\n",
    "\n",
    "reverse_map = {v: k for k, v in dict_genres.items()}\n",
    "#print(reverse_map)"
   ]
  },
  {
   "cell_type": "code",
   "execution_count": null,
   "metadata": {
    "colab": {
     "base_uri": "https://localhost:8080/",
     "height": 50
    },
    "colab_type": "code",
    "id": "WeVET0va7-SK",
    "outputId": "fe87134a-4a19-4973-e226-d3faad7c589c"
   },
   "outputs": [],
   "source": [
    "import IPython.display as ipd\n",
    "files = os.listdir(os.path.join(\"predict\"))\n",
    "#print(files)\n",
    "\n",
    "time=420\n",
    "freq=128\n",
    "arr_specs=list()\n",
    "#X_spect = np.empty((0, time, freq))\n",
    "X_spect = np.empty((0, time))\n",
    "songs=[]\n",
    "\n",
    "\n",
    "for fname in files:\n",
    "  print(fname)\n",
    "  count=0\n",
    "  for index in range(3):\n",
    "    index=index+1\n",
    "    y,sr=librosa.load(os.path.join(\"predict\",fname),duration=10,offset=index*60)\n",
    "    spect = librosa.feature.melspectrogram(y=y, sr=sr,n_fft=2048, hop_length=512)\n",
    "    spect = librosa.power_to_db(spect, ref=np.max)\n",
    "    spect = spect[:freq, :time]\n",
    "    spect=spect.T\n",
    "    songs.append(y)\n",
    "    arr_specs.append(spect)  \n",
    "    X_spect=np.array(arr_specs) \n",
    "    \n",
    "print(X_spect.shape)  "
   ]
  },
  {
   "cell_type": "code",
   "execution_count": null,
   "metadata": {
    "colab": {
     "base_uri": "https://localhost:8080/",
     "height": 440
    },
    "colab_type": "code",
    "id": "eLIftJEEydwh",
    "outputId": "a900a144-6ed1-445a-fa7f-2e8383bc79f3"
   },
   "outputs": [],
   "source": [
    "from keras.models import load_model\n",
    "\n",
    "weights_path = 'models/crnn/weights.best.h5'\n",
    "model_crnn = load_model(weights_path)\n",
    "\n",
    "weights_path = 'models/parallel/weights.best.h5'\n",
    "model_prcnn = load_model(weights_path)\n",
    "\n",
    "weights_path = 'models/cnn/weights.best.h5'\n",
    "model_cnn = load_model(weights_path)"
   ]
  },
  {
   "cell_type": "code",
   "execution_count": null,
   "metadata": {
    "colab": {
     "base_uri": "https://localhost:8080/",
     "height": 34
    },
    "colab_type": "code",
    "id": "UacFdmqV_s5V",
    "outputId": "63e46395-9231-4c1d-c948-6d786624fe01"
   },
   "outputs": [],
   "source": [
    "x_test=X_spect\n",
    "\n",
    "print(x_test.shape)"
   ]
  },
  {
   "cell_type": "code",
   "execution_count": null,
   "metadata": {
    "colab": {},
    "colab_type": "code",
    "id": "3-xpmqmX_Uge"
   },
   "outputs": [],
   "source": [
    "y_pred_crnn = model_crnn.predict(x_test)\n",
    "#print(y_pred.shape)\n",
    "x_test = x_test.reshape(x_test.shape[0],x_test.shape[1],x_test.shape[2],1)\n",
    "y_pred_prcnn = model_prcnn.predict(x_test)\n",
    "\n",
    "y_pred_cnn = model_cnn.predict(x_test)"
   ]
  },
  {
   "cell_type": "code",
   "execution_count": null,
   "metadata": {
    "colab": {},
    "colab_type": "code",
    "id": "E_0Rk9uFG6jU"
   },
   "outputs": [],
   "source": [
    "res_list=[]\n",
    "res_one=[]\n",
    "def pred(y_pred):\n",
    "  total=0\n",
    "  result={}\n",
    "  count=0\n",
    "  for j in y_pred:\n",
    "    total+=j\n",
    "  for j in y_pred:  \n",
    "\n",
    "    result[reverse_map[count]]=j/total \n",
    "    count=count+1\n",
    "  #print(result)\n",
    "  labels=sorted(result.items(), key=lambda x: x[1], reverse=True)\n",
    "\n",
    "  for x in labels[0:4]:\n",
    "    print(x)\n",
    " "
   ]
  },
  {
   "cell_type": "markdown",
   "metadata": {},
   "source": [
    "### CRNN Prediction"
   ]
  },
  {
   "cell_type": "code",
   "execution_count": null,
   "metadata": {
    "colab": {
     "base_uri": "https://localhost:8080/",
     "height": 655
    },
    "colab_type": "code",
    "id": "xRgzBhXarpfj",
    "outputId": "85201b9b-d693-4a5e-90c6-2a81b1aab280"
   },
   "outputs": [],
   "source": [
    "print(\"CRNN prediction\")\n",
    "for i in y_pred_crnn:\n",
    "  pred(i)\n",
    "  print(\"\\n\")\n",
    "\n"
   ]
  },
  {
   "cell_type": "markdown",
   "metadata": {},
   "source": [
    "### PRCNN Prediction"
   ]
  },
  {
   "cell_type": "code",
   "execution_count": null,
   "metadata": {},
   "outputs": [],
   "source": [
    "print(\"PRCNN prediction\")\n",
    "for i in y_pred_prcnn:\n",
    "  pred(i)\n",
    "  print(\"\\n\")"
   ]
  },
  {
   "cell_type": "code",
   "execution_count": null,
   "metadata": {},
   "outputs": [],
   "source": [
    "print(\"PRCNN prediction\")\n",
    "for i in y_pred_cnn:\n",
    "  pred(i)\n",
    "  print(\"\\n\")"
   ]
  },
  {
   "cell_type": "markdown",
   "metadata": {},
   "source": [
    "### Slice 1 (1.00 - 1.10 min)"
   ]
  },
  {
   "cell_type": "code",
   "execution_count": null,
   "metadata": {
    "colab": {
     "base_uri": "https://localhost:8080/",
     "height": 75
    },
    "colab_type": "code",
    "id": "tZ8T8-km2nC4",
    "outputId": "cd622b57-dd5c-49f6-9b5f-7cce14c6a3c7"
   },
   "outputs": [],
   "source": [
    "ipd.Audio(songs[0], rate=sr)"
   ]
  },
  {
   "cell_type": "markdown",
   "metadata": {},
   "source": [
    "### Slice 1 Prediction"
   ]
  },
  {
   "cell_type": "code",
   "execution_count": null,
   "metadata": {
    "colab": {
     "base_uri": "https://localhost:8080/",
     "height": 118
    },
    "colab_type": "code",
    "id": "SyTewLxr24RB",
    "outputId": "adbafef3-070d-487f-a8d6-20b631304eb9"
   },
   "outputs": [],
   "source": [
    "print(\"1.CRNN prediction:\")\n",
    "print(\"------------------------\")\n",
    "pred(y_pred_crnn[0])"
   ]
  },
  {
   "cell_type": "code",
   "execution_count": null,
   "metadata": {
    "colab": {
     "base_uri": "https://localhost:8080/",
     "height": 118
    },
    "colab_type": "code",
    "id": "sBvQcYPRRXqq",
    "outputId": "286fa7b4-932b-4346-9c6c-fecfd2730a66"
   },
   "outputs": [],
   "source": [
    "print(\"2.PRCNN prediction:\")\n",
    "print(\"------------------------\")\n",
    "pred(y_pred_prcnn[0])"
   ]
  },
  {
   "cell_type": "code",
   "execution_count": null,
   "metadata": {},
   "outputs": [],
   "source": [
    "print(\"3.CNN prediction:\")\n",
    "print(\"------------------------\")\n",
    "pred(y_pred_cnn[0])"
   ]
  },
  {
   "cell_type": "markdown",
   "metadata": {},
   "source": [
    "### Slice 2 (2.00 - 2.10 min)"
   ]
  },
  {
   "cell_type": "code",
   "execution_count": null,
   "metadata": {
    "colab": {
     "base_uri": "https://localhost:8080/",
     "height": 75
    },
    "colab_type": "code",
    "id": "keJdxcQn26hA",
    "outputId": "eb7af32d-ff23-4ca6-dd13-a6eafe0f92db"
   },
   "outputs": [],
   "source": [
    "ipd.Audio(songs[1], rate=sr)"
   ]
  },
  {
   "cell_type": "markdown",
   "metadata": {},
   "source": [
    "### Slice 2 Prediction"
   ]
  },
  {
   "cell_type": "code",
   "execution_count": null,
   "metadata": {
    "colab": {
     "base_uri": "https://localhost:8080/",
     "height": 118
    },
    "colab_type": "code",
    "id": "pcEaCVVJ27zf",
    "outputId": "4937f1da-acdb-431f-8210-97c0f7d90dac"
   },
   "outputs": [],
   "source": [
    "print(\"1.CRNN prediction:\")\n",
    "print(\"------------------------\")\n",
    "pred(y_pred_crnn[1])"
   ]
  },
  {
   "cell_type": "code",
   "execution_count": null,
   "metadata": {
    "colab": {
     "base_uri": "https://localhost:8080/",
     "height": 118
    },
    "colab_type": "code",
    "id": "tiOVzmPYRnSf",
    "outputId": "ff79cf5e-a234-4c4b-a765-d47c726bcd3b"
   },
   "outputs": [],
   "source": [
    "print(\"2.PRCNN prediction:\")\n",
    "print(\"------------------------\")\n",
    "pred(y_pred_prcnn[1])"
   ]
  },
  {
   "cell_type": "code",
   "execution_count": null,
   "metadata": {},
   "outputs": [],
   "source": [
    "print(\"3.CNN prediction:\")\n",
    "print(\"------------------------\")\n",
    "pred(y_pred_cnn[1])"
   ]
  },
  {
   "cell_type": "markdown",
   "metadata": {},
   "source": [
    "### Slice 3 (3.00 - 3.10 min)"
   ]
  },
  {
   "cell_type": "code",
   "execution_count": null,
   "metadata": {
    "colab": {
     "base_uri": "https://localhost:8080/",
     "height": 75
    },
    "colab_type": "code",
    "id": "4BEp29kz2-lp",
    "outputId": "b94094b1-f10b-4274-d11c-da4078081e90"
   },
   "outputs": [],
   "source": [
    "ipd.Audio(songs[2], rate=sr)"
   ]
  },
  {
   "cell_type": "markdown",
   "metadata": {},
   "source": [
    "### Slice 3 Prediction"
   ]
  },
  {
   "cell_type": "code",
   "execution_count": null,
   "metadata": {
    "colab": {
     "base_uri": "https://localhost:8080/",
     "height": 118
    },
    "colab_type": "code",
    "id": "FP_WQaXe3AXA",
    "outputId": "c86bb3ef-1429-4781-feeb-c4d510578edd"
   },
   "outputs": [],
   "source": [
    "print(\"1.CRNN prediction:\")\n",
    "print(\"------------------------\")\n",
    "pred(y_pred_crnn[2])"
   ]
  },
  {
   "cell_type": "code",
   "execution_count": null,
   "metadata": {
    "colab": {
     "base_uri": "https://localhost:8080/",
     "height": 118
    },
    "colab_type": "code",
    "id": "v-75g1T2RpY-",
    "outputId": "8eed3b78-2153-4cea-fb57-1da4e5a6dc2f"
   },
   "outputs": [],
   "source": [
    "print(\"2.PRCNN prediction:\")\n",
    "print(\"------------------------\")\n",
    "pred(y_pred_prcnn[2])"
   ]
  },
  {
   "cell_type": "code",
   "execution_count": null,
   "metadata": {},
   "outputs": [],
   "source": [
    "print(\"3.CNN prediction:\")\n",
    "print(\"------------------------\")\n",
    "pred(y_pred_cnn[2])"
   ]
  }
 ],
 "metadata": {
  "accelerator": "GPU",
  "colab": {
   "collapsed_sections": [],
   "name": "Predict_3times.pynb",
   "provenance": [],
   "version": "0.3.2"
  },
  "kernelspec": {
   "display_name": "Python 3",
   "language": "python",
   "name": "python3"
  },
  "language_info": {
   "codemirror_mode": {
    "name": "ipython",
    "version": 3
   },
   "file_extension": ".py",
   "mimetype": "text/x-python",
   "name": "python",
   "nbconvert_exporter": "python",
   "pygments_lexer": "ipython3",
   "version": "3.6.7"
  }
 },
 "nbformat": 4,
 "nbformat_minor": 1
}
