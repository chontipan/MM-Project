{
 "cells": [
  {
   "cell_type": "code",
   "execution_count": 1,
   "metadata": {
    "colab": {
     "base_uri": "https://localhost:8080/",
     "height": 34
    },
    "colab_type": "code",
    "executionInfo": {
     "elapsed": 4046,
     "status": "ok",
     "timestamp": 1561367263783,
     "user": {
      "displayName": "chontipan plengvittaya",
      "photoUrl": "",
      "userId": "10515451504317762035"
     },
     "user_tz": -480
    },
    "id": "1VJM76_vM2Jt",
    "outputId": "362721ee-6fc6-4f42-b162-b6999bb7ffa5"
   },
   "outputs": [
    {
     "name": "stderr",
     "output_type": "stream",
     "text": [
      "Using TensorFlow backend.\n"
     ]
    }
   ],
   "source": [
    "import numpy as np\n",
    "import os\n",
    "from os.path import isfile\n",
    "import keras\n",
    "from keras.models import Sequential, Model\n",
    "from keras.layers import Input, Dense, TimeDistributed, LSTM, Dropout, Activation\n",
    "from keras.layers import Conv1D, MaxPooling1D,MaxPooling2D, Flatten, Conv2D, BatchNormalization, Lambda, Reshape\n",
    "from keras.layers.advanced_activations import ELU\n",
    "from keras.callbacks import ModelCheckpoint, TensorBoard, ReduceLROnPlateau, EarlyStopping\n",
    "from keras import backend\n",
    "from keras.utils import np_utils\n",
    "from keras.optimizers import Adam, RMSprop\n",
    "\n",
    "from keras import regularizers\n",
    "\n",
    "\n",
    "import librosa\n",
    "import librosa.display\n",
    "import matplotlib.pyplot as plt\n",
    "%matplotlib inline"
   ]
  },
  {
   "cell_type": "code",
   "execution_count": 2,
   "metadata": {
    "colab": {
     "base_uri": "https://localhost:8080/",
     "height": 54
    },
    "colab_type": "code",
    "executionInfo": {
     "elapsed": 3980,
     "status": "ok",
     "timestamp": 1561367263784,
     "user": {
      "displayName": "chontipan plengvittaya",
      "photoUrl": "",
      "userId": "10515451504317762035"
     },
     "user_tz": -480
    },
    "id": "VKj-2OlXM8td",
    "outputId": "93e73e81-9700-49a4-b850-e0081ec376cb"
   },
   "outputs": [
    {
     "name": "stdout",
     "output_type": "stream",
     "text": [
      "Drive already mounted at /content/drive; to attempt to forcibly remount, call drive.mount(\"/content/drive\", force_remount=True).\n"
     ]
    }
   ],
   "source": [
    "from google.colab import drive\n",
    "drive.mount('/content/drive')"
   ]
  },
  {
   "cell_type": "code",
   "execution_count": 3,
   "metadata": {
    "colab": {
     "base_uri": "https://localhost:8080/",
     "height": 34
    },
    "colab_type": "code",
    "executionInfo": {
     "elapsed": 3879,
     "status": "ok",
     "timestamp": 1561367263785,
     "user": {
      "displayName": "chontipan plengvittaya",
      "photoUrl": "",
      "userId": "10515451504317762035"
     },
     "user_tz": -480
    },
    "id": "uGp2eFwiM_QO",
    "outputId": "86f140af-5894-4a0f-eedd-8ebb80e4d7c9"
   },
   "outputs": [
    {
     "name": "stdout",
     "output_type": "stream",
     "text": [
      "/content/drive/My Drive/FMA_Music\n"
     ]
    }
   ],
   "source": [
    "cd drive/\"My Drive\"/FMA_Music"
   ]
  },
  {
   "cell_type": "markdown",
   "metadata": {
    "colab_type": "text",
    "id": "6cGHzCY-M2J6"
   },
   "source": [
    "### Load training and Validation arrays"
   ]
  },
  {
   "cell_type": "code",
   "execution_count": 4,
   "metadata": {
    "colab": {
     "base_uri": "https://localhost:8080/",
     "height": 34
    },
    "colab_type": "code",
    "executionInfo": {
     "elapsed": 3715,
     "status": "ok",
     "timestamp": 1561367263785,
     "user": {
      "displayName": "chontipan plengvittaya",
      "photoUrl": "",
      "userId": "10515451504317762035"
     },
     "user_tz": -480
    },
    "id": "Aij_bYn1M2J7",
    "outputId": "c6963639-17e4-4adf-89f8-d7c858339b18"
   },
   "outputs": [
    {
     "name": "stdout",
     "output_type": "stream",
     "text": [
      "{0: 'Electronic', 1: 'Folk', 2: 'Pop', 3: 'Instrumental'}\n"
     ]
    }
   ],
   "source": [
    "\n",
    "\n",
    "dict_genres = {'Electronic':0,  'Folk':1,  'Pop' :2, 'Instrumental':3 }\n",
    "\n",
    "reverse_map = {v: k for k, v in dict_genres.items()}\n",
    "print(reverse_map)"
   ]
  },
  {
   "cell_type": "code",
   "execution_count": 5,
   "metadata": {
    "colab": {
     "base_uri": "https://localhost:8080/",
     "height": 50
    },
    "colab_type": "code",
    "executionInfo": {
     "elapsed": 27959,
     "status": "ok",
     "timestamp": 1561367288091,
     "user": {
      "displayName": "chontipan plengvittaya",
      "photoUrl": "",
      "userId": "10515451504317762035"
     },
     "user_tz": -480
    },
    "id": "b2IeszrwM2KA",
    "outputId": "924d311e-b39f-49d4-9d49-69e7f2cee1b2"
   },
   "outputs": [
    {
     "name": "stdout",
     "output_type": "stream",
     "text": [
      "['arr_0', 'arr_1']\n",
      "(9597, 420, 128) (9597,)\n"
     ]
    }
   ],
   "source": [
    "npzfile = np.load('loaddata/suf_train_arr.npz')\n",
    "print(npzfile.files)\n",
    "X_train = npzfile['arr_0']\n",
    "y_train = npzfile['arr_1']\n",
    "print(X_train.shape, y_train.shape)\n"
   ]
  },
  {
   "cell_type": "code",
   "execution_count": 6,
   "metadata": {
    "colab": {
     "base_uri": "https://localhost:8080/",
     "height": 50
    },
    "colab_type": "code",
    "executionInfo": {
     "elapsed": 30972,
     "status": "ok",
     "timestamp": 1561367291166,
     "user": {
      "displayName": "chontipan plengvittaya",
      "photoUrl": "",
      "userId": "10515451504317762035"
     },
     "user_tz": -480
    },
    "id": "rB2Z7CkMM2KF",
    "outputId": "4dddf601-6a34-4ce9-90e8-8e3c57920382"
   },
   "outputs": [
    {
     "name": "stdout",
     "output_type": "stream",
     "text": [
      "['arr_0', 'arr_1']\n",
      "(1200, 420, 128) (1200,)\n"
     ]
    }
   ],
   "source": [
    "npzfile = np.load('loaddata/suf_valid_arr.npz')\n",
    "print(npzfile.files)\n",
    "X_valid = npzfile['arr_0']\n",
    "y_valid = npzfile['arr_1']\n",
    "print(X_valid.shape, y_valid.shape)\n"
   ]
  },
  {
   "cell_type": "code",
   "execution_count": 0,
   "metadata": {
    "colab": {},
    "colab_type": "code",
    "id": "2scDCE-WBmWD"
   },
   "outputs": [],
   "source": [
    "y_train = np_utils.to_categorical(y_train)\n",
    "y_valid = np_utils.to_categorical(y_valid)"
   ]
  },
  {
   "cell_type": "markdown",
   "metadata": {
    "colab_type": "text",
    "id": "ODuVzcSwM2KQ"
   },
   "source": [
    "### CNN - RNN Model"
   ]
  },
  {
   "cell_type": "code",
   "execution_count": 0,
   "metadata": {
    "colab": {},
    "colab_type": "code",
    "id": "NKGt1P2HM2KR"
   },
   "outputs": [],
   "source": [
    "batch_size = 32\n",
    "num_classes = 4\n",
    "n_features = X_train.shape[2]\n",
    "n_time = X_train.shape[1]"
   ]
  },
  {
   "cell_type": "code",
   "execution_count": 0,
   "metadata": {
    "colab": {},
    "colab_type": "code",
    "id": "gYEPbr8FM2KV"
   },
   "outputs": [],
   "source": [
    "N_LAYERS = 3\n",
    "FILTER_LENGTH = 5\n",
    "CONV_FILTER_COUNT = 56\n",
    "BATCH_SIZE = 32\n",
    "LSTM_COUNT = 96\n",
    "EPOCH_COUNT = 70\n",
    "NUM_HIDDEN = 64\n",
    "L2_regularization = 0.001\n",
    "\n",
    "def conv_recurrent_model_build(model_input):\n",
    "    print('Building model...')\n",
    "    layer = model_input\n",
    "    \n",
    "    ### 3 1D Convolution Layers\n",
    "    for i in range(N_LAYERS):\n",
    "        # give name to the layers\n",
    "        layer = Conv1D(\n",
    "                filters=CONV_FILTER_COUNT,\n",
    "                kernel_size=FILTER_LENGTH,\n",
    "                kernel_regularizer=regularizers.l2(L2_regularization),  # Tried 0.001\n",
    "                name='convolution_' + str(i + 1)\n",
    "            )(layer)\n",
    "        layer = BatchNormalization(momentum=0.9)(layer)\n",
    "        layer = Activation('relu')(layer)\n",
    "        layer = MaxPooling1D(2)(layer)\n",
    "        layer = Dropout(0.4)(layer)\n",
    "    \n",
    "    ## LSTM Layer\n",
    "    layer = LSTM(LSTM_COUNT, return_sequences=False)(layer)\n",
    "    layer = Dropout(0.4)(layer)\n",
    "    \n",
    "    ## Dense Layer\n",
    "    layer = Dense(NUM_HIDDEN, kernel_regularizer=regularizers.l2(L2_regularization), name='dense1')(layer)\n",
    "    layer = Dropout(0.4)(layer)\n",
    "    \n",
    "    ## Softmax Output\n",
    "    layer = Dense(num_classes)(layer)\n",
    "    layer = Activation('softmax', name='output_realtime')(layer)\n",
    "    model_output = layer\n",
    "    model = Model(model_input, model_output)\n",
    "    \n",
    "    \n",
    "    opt = Adam(lr=0.001)\n",
    "    model.compile(\n",
    "            loss='categorical_crossentropy',\n",
    "            optimizer=opt,\n",
    "            metrics=['accuracy']\n",
    "        )\n",
    "    \n",
    "    print(model.summary())\n",
    "    return model\n",
    "    "
   ]
  },
  {
   "cell_type": "code",
   "execution_count": 0,
   "metadata": {
    "colab": {},
    "colab_type": "code",
    "id": "42w6Q4w9M2KZ"
   },
   "outputs": [],
   "source": [
    "def train_model(x_train, y_train, x_val, y_val):\n",
    "    \n",
    "    n_features = x_train.shape[2]\n",
    "    input_shape = (None, x_train.shape[1])\n",
    "    model_input = Input(input_shape, name='input')\n",
    "    \n",
    "    model = conv_recurrent_model_build(model_input)\n",
    "    \n",
    "\n",
    "    checkpoint_callback = ModelCheckpoint('./models/crnn/weights.best.h5', monitor='val_acc', verbose=1,\n",
    "                                          save_best_only=True, mode='max')\n",
    "    \n",
    "    earlyStopping = EarlyStopping(monitor='val_acc', patience=10, verbose=1, mode='max')\n",
    "    \n",
    "    reducelr_callback = ReduceLROnPlateau(\n",
    "                monitor='val_acc', factor=0.5, patience=10, min_delta=0.01,\n",
    "                verbose=1\n",
    "            )\n",
    "    callbacks_list = [earlyStopping,checkpoint_callback, reducelr_callback]\n",
    "\n",
    "    # Fit the model and get training history.\n",
    "    print('Training...')\n",
    "    history = model.fit(x_train, y_train, batch_size=BATCH_SIZE, epochs=EPOCH_COUNT,\n",
    "                        validation_data=(x_val, y_val), verbose=1, callbacks=callbacks_list)\n",
    "\n",
    "    return model, history\n"
   ]
  },
  {
   "cell_type": "code",
   "execution_count": 0,
   "metadata": {
    "colab": {},
    "colab_type": "code",
    "id": "sWkVWpMOM2Ke"
   },
   "outputs": [],
   "source": [
    "def show_summary_stats(history):\n",
    "    # List all data in history\n",
    "    print(history.history.keys())\n",
    "\n",
    "    # Summarize history for accuracy\n",
    "    plt.plot(history.history['acc'])\n",
    "    plt.plot(history.history['val_acc'])\n",
    "    plt.title('model accuracy')\n",
    "    plt.ylabel('accuracy')\n",
    "    plt.xlabel('epoch')\n",
    "    plt.legend(['train', 'test'], loc='upper left')\n",
    "    plt.show()\n",
    "\n",
    "    # Summarize history for loss\n",
    "    plt.plot(history.history['loss'])\n",
    "    plt.plot(history.history['val_loss'])\n",
    "    plt.title('model loss')\n",
    "    plt.ylabel('loss')\n",
    "    plt.xlabel('epoch')\n",
    "    plt.legend(['train', 'test'], loc='upper left')\n",
    "    plt.show()"
   ]
  },
  {
   "cell_type": "code",
   "execution_count": 13,
   "metadata": {
    "colab": {
     "base_uri": "https://localhost:8080/",
     "height": 6219
    },
    "colab_type": "code",
    "executionInfo": {
     "elapsed": 2039683,
     "status": "ok",
     "timestamp": 1561369300058,
     "user": {
      "displayName": "chontipan plengvittaya",
      "photoUrl": "",
      "userId": "10515451504317762035"
     },
     "user_tz": -480
    },
    "id": "d-Wc0wThM2Kj",
    "outputId": "cc776c7c-d3e6-4027-9033-8160459df4cb"
   },
   "outputs": [
    {
     "name": "stderr",
     "output_type": "stream",
     "text": [
      "WARNING: Logging before flag parsing goes to stderr.\n",
      "W0624 09:08:11.997462 140667962320768 deprecation_wrapper.py:119] From /usr/local/lib/python3.6/dist-packages/keras/backend/tensorflow_backend.py:517: The name tf.placeholder is deprecated. Please use tf.compat.v1.placeholder instead.\n",
      "\n",
      "W0624 09:08:12.035840 140667962320768 deprecation_wrapper.py:119] From /usr/local/lib/python3.6/dist-packages/keras/backend/tensorflow_backend.py:4138: The name tf.random_uniform is deprecated. Please use tf.random.uniform instead.\n",
      "\n",
      "W0624 09:08:12.059522 140667962320768 deprecation_wrapper.py:119] From /usr/local/lib/python3.6/dist-packages/keras/backend/tensorflow_backend.py:74: The name tf.get_default_graph is deprecated. Please use tf.compat.v1.get_default_graph instead.\n",
      "\n",
      "W0624 09:08:12.131577 140667962320768 deprecation_wrapper.py:119] From /usr/local/lib/python3.6/dist-packages/keras/backend/tensorflow_backend.py:133: The name tf.placeholder_with_default is deprecated. Please use tf.compat.v1.placeholder_with_default instead.\n",
      "\n",
      "W0624 09:08:12.155078 140667962320768 deprecation_wrapper.py:119] From /usr/local/lib/python3.6/dist-packages/keras/backend/tensorflow_backend.py:3976: The name tf.nn.max_pool is deprecated. Please use tf.nn.max_pool2d instead.\n",
      "\n",
      "W0624 09:08:12.164850 140667962320768 deprecation.py:506] From /usr/local/lib/python3.6/dist-packages/keras/backend/tensorflow_backend.py:3445: calling dropout (from tensorflow.python.ops.nn_ops) with keep_prob is deprecated and will be removed in a future version.\n",
      "Instructions for updating:\n",
      "Please use `rate` instead of `keep_prob`. Rate should be set to `rate = 1 - keep_prob`.\n"
     ]
    },
    {
     "name": "stdout",
     "output_type": "stream",
     "text": [
      "Building model...\n"
     ]
    },
    {
     "name": "stderr",
     "output_type": "stream",
     "text": [
      "W0624 09:08:12.829715 140667962320768 deprecation_wrapper.py:119] From /usr/local/lib/python3.6/dist-packages/keras/optimizers.py:790: The name tf.train.Optimizer is deprecated. Please use tf.compat.v1.train.Optimizer instead.\n",
      "\n",
      "W0624 09:08:12.840286 140667962320768 deprecation_wrapper.py:119] From /usr/local/lib/python3.6/dist-packages/keras/backend/tensorflow_backend.py:3295: The name tf.log is deprecated. Please use tf.math.log instead.\n",
      "\n",
      "W0624 09:08:13.020995 140667962320768 deprecation.py:323] From /usr/local/lib/python3.6/dist-packages/tensorflow/python/ops/math_grad.py:1250: add_dispatch_support.<locals>.wrapper (from tensorflow.python.ops.array_ops) is deprecated and will be removed in a future version.\n",
      "Instructions for updating:\n",
      "Use tf.where in 2.0, which has the same broadcast rule as np.where\n"
     ]
    },
    {
     "name": "stdout",
     "output_type": "stream",
     "text": [
      "_________________________________________________________________\n",
      "Layer (type)                 Output Shape              Param #   \n",
      "=================================================================\n",
      "input (InputLayer)           (None, None, 128)         0         \n",
      "_________________________________________________________________\n",
      "convolution_1 (Conv1D)       (None, None, 56)          35896     \n",
      "_________________________________________________________________\n",
      "batch_normalization_1 (Batch (None, None, 56)          224       \n",
      "_________________________________________________________________\n",
      "activation_1 (Activation)    (None, None, 56)          0         \n",
      "_________________________________________________________________\n",
      "max_pooling1d_1 (MaxPooling1 (None, None, 56)          0         \n",
      "_________________________________________________________________\n",
      "dropout_1 (Dropout)          (None, None, 56)          0         \n",
      "_________________________________________________________________\n",
      "convolution_2 (Conv1D)       (None, None, 56)          15736     \n",
      "_________________________________________________________________\n",
      "batch_normalization_2 (Batch (None, None, 56)          224       \n",
      "_________________________________________________________________\n",
      "activation_2 (Activation)    (None, None, 56)          0         \n",
      "_________________________________________________________________\n",
      "max_pooling1d_2 (MaxPooling1 (None, None, 56)          0         \n",
      "_________________________________________________________________\n",
      "dropout_2 (Dropout)          (None, None, 56)          0         \n",
      "_________________________________________________________________\n",
      "convolution_3 (Conv1D)       (None, None, 56)          15736     \n",
      "_________________________________________________________________\n",
      "batch_normalization_3 (Batch (None, None, 56)          224       \n",
      "_________________________________________________________________\n",
      "activation_3 (Activation)    (None, None, 56)          0         \n",
      "_________________________________________________________________\n",
      "max_pooling1d_3 (MaxPooling1 (None, None, 56)          0         \n",
      "_________________________________________________________________\n",
      "dropout_3 (Dropout)          (None, None, 56)          0         \n",
      "_________________________________________________________________\n",
      "lstm_1 (LSTM)                (None, 96)                58752     \n",
      "_________________________________________________________________\n",
      "dropout_4 (Dropout)          (None, 96)                0         \n",
      "_________________________________________________________________\n",
      "dense1 (Dense)               (None, 64)                6208      \n",
      "_________________________________________________________________\n",
      "dropout_5 (Dropout)          (None, 64)                0         \n",
      "_________________________________________________________________\n",
      "dense_1 (Dense)              (None, 4)                 260       \n",
      "_________________________________________________________________\n",
      "output_realtime (Activation) (None, 4)                 0         \n",
      "=================================================================\n",
      "Total params: 133,260\n",
      "Trainable params: 132,924\n",
      "Non-trainable params: 336\n",
      "_________________________________________________________________\n",
      "None\n",
      "Training...\n",
      "Train on 9597 samples, validate on 1200 samples\n",
      "Epoch 1/70\n",
      "9597/9597 [==============================] - 34s 4ms/step - loss: 1.5335 - acc: 0.3874 - val_loss: 1.5038 - val_acc: 0.4208\n",
      "\n",
      "Epoch 00001: val_acc improved from -inf to 0.42083, saving model to ./models/crnn/weights.best.h5\n",
      "Epoch 2/70\n",
      "9597/9597 [==============================] - 27s 3ms/step - loss: 1.4056 - acc: 0.4535 - val_loss: 1.4918 - val_acc: 0.3500\n",
      "\n",
      "Epoch 00002: val_acc did not improve from 0.42083\n",
      "Epoch 3/70\n",
      "9597/9597 [==============================] - 28s 3ms/step - loss: 1.3310 - acc: 0.4683 - val_loss: 1.4706 - val_acc: 0.3367\n",
      "\n",
      "Epoch 00003: val_acc did not improve from 0.42083\n",
      "Epoch 4/70\n",
      "9597/9597 [==============================] - 27s 3ms/step - loss: 1.2911 - acc: 0.4824 - val_loss: 1.3091 - val_acc: 0.4542\n",
      "\n",
      "Epoch 00004: val_acc improved from 0.42083 to 0.45417, saving model to ./models/crnn/weights.best.h5\n",
      "Epoch 5/70\n",
      "9597/9597 [==============================] - 31s 3ms/step - loss: 1.2537 - acc: 0.4971 - val_loss: 1.2459 - val_acc: 0.4883\n",
      "\n",
      "Epoch 00005: val_acc improved from 0.45417 to 0.48833, saving model to ./models/crnn/weights.best.h5\n",
      "Epoch 6/70\n",
      "9597/9597 [==============================] - 27s 3ms/step - loss: 1.2414 - acc: 0.4933 - val_loss: 1.3112 - val_acc: 0.4275\n",
      "\n",
      "Epoch 00006: val_acc did not improve from 0.48833\n",
      "Epoch 7/70\n",
      "9597/9597 [==============================] - 27s 3ms/step - loss: 1.2243 - acc: 0.4978 - val_loss: 1.2213 - val_acc: 0.4700\n",
      "\n",
      "Epoch 00007: val_acc did not improve from 0.48833\n",
      "Epoch 8/70\n",
      "9597/9597 [==============================] - 27s 3ms/step - loss: 1.2095 - acc: 0.5030 - val_loss: 1.6009 - val_acc: 0.3375\n",
      "\n",
      "Epoch 00008: val_acc did not improve from 0.48833\n",
      "Epoch 9/70\n",
      "9597/9597 [==============================] - 36s 4ms/step - loss: 1.1887 - acc: 0.5177 - val_loss: 1.4180 - val_acc: 0.3892\n",
      "\n",
      "Epoch 00009: val_acc did not improve from 0.48833\n",
      "Epoch 10/70\n",
      "9597/9597 [==============================] - 27s 3ms/step - loss: 1.1664 - acc: 0.5296 - val_loss: 1.1744 - val_acc: 0.4850\n",
      "\n",
      "Epoch 00010: val_acc did not improve from 0.48833\n",
      "Epoch 11/70\n",
      "9597/9597 [==============================] - 27s 3ms/step - loss: 1.1544 - acc: 0.5388 - val_loss: 1.2161 - val_acc: 0.4858\n",
      "\n",
      "Epoch 00011: val_acc did not improve from 0.48833\n",
      "Epoch 12/70\n",
      "9597/9597 [==============================] - 28s 3ms/step - loss: 1.1389 - acc: 0.5506 - val_loss: 1.1750 - val_acc: 0.5017\n",
      "\n",
      "Epoch 00012: val_acc improved from 0.48833 to 0.50167, saving model to ./models/crnn/weights.best.h5\n",
      "Epoch 13/70\n",
      "9597/9597 [==============================] - 27s 3ms/step - loss: 1.1308 - acc: 0.5592 - val_loss: 1.3954 - val_acc: 0.4125\n",
      "\n",
      "Epoch 00013: val_acc did not improve from 0.50167\n",
      "Epoch 14/70\n",
      "9597/9597 [==============================] - 33s 3ms/step - loss: 1.1402 - acc: 0.5460 - val_loss: 1.1941 - val_acc: 0.4717\n",
      "\n",
      "Epoch 00014: val_acc did not improve from 0.50167\n",
      "Epoch 15/70\n",
      "9597/9597 [==============================] - 34s 4ms/step - loss: 1.1264 - acc: 0.5621 - val_loss: 1.1965 - val_acc: 0.4675\n",
      "\n",
      "Epoch 00015: val_acc did not improve from 0.50167\n",
      "Epoch 16/70\n",
      "9597/9597 [==============================] - 30s 3ms/step - loss: 1.1238 - acc: 0.5624 - val_loss: 1.3487 - val_acc: 0.4075\n",
      "\n",
      "Epoch 00016: val_acc did not improve from 0.50167\n",
      "Epoch 17/70\n",
      "9597/9597 [==============================] - 27s 3ms/step - loss: 1.1118 - acc: 0.5697 - val_loss: 1.3275 - val_acc: 0.4667\n",
      "\n",
      "Epoch 00017: val_acc did not improve from 0.50167\n",
      "Epoch 18/70\n",
      "9597/9597 [==============================] - 27s 3ms/step - loss: 1.1160 - acc: 0.5636 - val_loss: 1.2801 - val_acc: 0.4150\n",
      "\n",
      "Epoch 00018: val_acc did not improve from 0.50167\n",
      "Epoch 19/70\n",
      "9597/9597 [==============================] - 27s 3ms/step - loss: 1.0992 - acc: 0.5714 - val_loss: 1.1934 - val_acc: 0.4617\n",
      "\n",
      "Epoch 00019: val_acc did not improve from 0.50167\n",
      "\n",
      "Epoch 00019: ReduceLROnPlateau reducing learning rate to 0.0005000000237487257.\n",
      "Epoch 20/70\n",
      "9597/9597 [==============================] - 27s 3ms/step - loss: 1.0754 - acc: 0.5834 - val_loss: 1.3081 - val_acc: 0.4558\n",
      "\n",
      "Epoch 00020: val_acc did not improve from 0.50167\n",
      "Epoch 21/70\n",
      "9597/9597 [==============================] - 27s 3ms/step - loss: 1.0556 - acc: 0.5909 - val_loss: 1.4042 - val_acc: 0.4317\n",
      "\n",
      "Epoch 00021: val_acc did not improve from 0.50167\n",
      "Epoch 22/70\n",
      "9597/9597 [==============================] - 28s 3ms/step - loss: 1.0508 - acc: 0.5975 - val_loss: 1.2346 - val_acc: 0.4617\n",
      "\n",
      "Epoch 00022: val_acc did not improve from 0.50167\n",
      "Epoch 23/70\n",
      "9597/9597 [==============================] - 35s 4ms/step - loss: 1.0490 - acc: 0.5952 - val_loss: 1.2602 - val_acc: 0.4492\n",
      "\n",
      "Epoch 00023: val_acc did not improve from 0.50167\n",
      "Epoch 24/70\n",
      "9597/9597 [==============================] - 29s 3ms/step - loss: 1.0414 - acc: 0.5944 - val_loss: 1.3817 - val_acc: 0.4425\n",
      "\n",
      "Epoch 00024: val_acc did not improve from 0.50167\n",
      "Epoch 25/70\n",
      "9597/9597 [==============================] - 38s 4ms/step - loss: 1.0300 - acc: 0.6035 - val_loss: 1.2126 - val_acc: 0.5033\n",
      "\n",
      "Epoch 00025: val_acc improved from 0.50167 to 0.50333, saving model to ./models/crnn/weights.best.h5\n",
      "Epoch 26/70\n",
      "9597/9597 [==============================] - 27s 3ms/step - loss: 1.0299 - acc: 0.6056 - val_loss: 1.1949 - val_acc: 0.5058\n",
      "\n",
      "Epoch 00026: val_acc improved from 0.50333 to 0.50583, saving model to ./models/crnn/weights.best.h5\n",
      "\n",
      "Epoch 00026: ReduceLROnPlateau reducing learning rate to 0.0002500000118743628.\n",
      "Epoch 27/70\n",
      "9597/9597 [==============================] - 27s 3ms/step - loss: 1.0019 - acc: 0.6160 - val_loss: 1.1384 - val_acc: 0.5208\n",
      "\n",
      "Epoch 00027: val_acc improved from 0.50583 to 0.52083, saving model to ./models/crnn/weights.best.h5\n",
      "Epoch 28/70\n",
      "9597/9597 [==============================] - 37s 4ms/step - loss: 0.9936 - acc: 0.6206 - val_loss: 1.3395 - val_acc: 0.4700\n",
      "\n",
      "Epoch 00028: val_acc did not improve from 0.52083\n",
      "Epoch 29/70\n",
      "9597/9597 [==============================] - 27s 3ms/step - loss: 0.9863 - acc: 0.6155 - val_loss: 1.1323 - val_acc: 0.5142\n",
      "\n",
      "Epoch 00029: val_acc did not improve from 0.52083\n",
      "Epoch 30/70\n",
      "9597/9597 [==============================] - 27s 3ms/step - loss: 0.9846 - acc: 0.6164 - val_loss: 1.1895 - val_acc: 0.5325\n",
      "\n",
      "Epoch 00030: val_acc improved from 0.52083 to 0.53250, saving model to ./models/crnn/weights.best.h5\n",
      "Epoch 31/70\n",
      "9597/9597 [==============================] - 36s 4ms/step - loss: 0.9827 - acc: 0.6197 - val_loss: 1.2824 - val_acc: 0.4567\n",
      "\n",
      "Epoch 00031: val_acc did not improve from 0.53250\n",
      "Epoch 32/70\n",
      "9597/9597 [==============================] - 28s 3ms/step - loss: 0.9807 - acc: 0.6215 - val_loss: 1.2006 - val_acc: 0.4700\n",
      "\n",
      "Epoch 00032: val_acc did not improve from 0.53250\n",
      "Epoch 33/70\n",
      "9597/9597 [==============================] - 27s 3ms/step - loss: 0.9689 - acc: 0.6250 - val_loss: 1.2128 - val_acc: 0.4625\n",
      "\n",
      "Epoch 00033: val_acc did not improve from 0.53250\n",
      "Epoch 34/70\n",
      "9597/9597 [==============================] - 27s 3ms/step - loss: 0.9698 - acc: 0.6303 - val_loss: 1.0661 - val_acc: 0.5617\n",
      "\n",
      "Epoch 00034: val_acc improved from 0.53250 to 0.56167, saving model to ./models/crnn/weights.best.h5\n",
      "Epoch 35/70\n",
      "9597/9597 [==============================] - 38s 4ms/step - loss: 0.9608 - acc: 0.6302 - val_loss: 1.1140 - val_acc: 0.5417\n",
      "\n",
      "Epoch 00035: val_acc did not improve from 0.56167\n",
      "Epoch 36/70\n",
      "9597/9597 [==============================] - 27s 3ms/step - loss: 0.9632 - acc: 0.6282 - val_loss: 1.1158 - val_acc: 0.5192\n",
      "\n",
      "Epoch 00036: val_acc did not improve from 0.56167\n",
      "Epoch 37/70\n",
      "9597/9597 [==============================] - 27s 3ms/step - loss: 0.9538 - acc: 0.6311 - val_loss: 1.0722 - val_acc: 0.5650\n",
      "\n",
      "Epoch 00037: val_acc improved from 0.56167 to 0.56500, saving model to ./models/crnn/weights.best.h5\n",
      "Epoch 38/70\n",
      "9597/9597 [==============================] - 27s 3ms/step - loss: 0.9376 - acc: 0.6446 - val_loss: 1.1873 - val_acc: 0.5317\n",
      "\n",
      "Epoch 00038: val_acc did not improve from 0.56500\n",
      "Epoch 39/70\n",
      "9597/9597 [==============================] - 27s 3ms/step - loss: 0.9479 - acc: 0.6347 - val_loss: 1.2959 - val_acc: 0.4533\n",
      "\n",
      "Epoch 00039: val_acc did not improve from 0.56500\n",
      "Epoch 40/70\n",
      "9597/9597 [==============================] - 27s 3ms/step - loss: 0.9365 - acc: 0.6380 - val_loss: 1.1938 - val_acc: 0.5100\n",
      "\n",
      "Epoch 00040: val_acc did not improve from 0.56500\n",
      "Epoch 41/70\n",
      "9597/9597 [==============================] - 27s 3ms/step - loss: 0.9254 - acc: 0.6441 - val_loss: 1.1269 - val_acc: 0.5275\n",
      "\n",
      "Epoch 00041: val_acc did not improve from 0.56500\n",
      "\n",
      "Epoch 00041: ReduceLROnPlateau reducing learning rate to 0.0001250000059371814.\n",
      "Epoch 42/70\n",
      "9597/9597 [==============================] - 27s 3ms/step - loss: 0.9256 - acc: 0.6427 - val_loss: 1.0669 - val_acc: 0.5683\n",
      "\n",
      "Epoch 00042: val_acc improved from 0.56500 to 0.56833, saving model to ./models/crnn/weights.best.h5\n",
      "Epoch 43/70\n",
      "9597/9597 [==============================] - 27s 3ms/step - loss: 0.9200 - acc: 0.6511 - val_loss: 1.0635 - val_acc: 0.5475\n",
      "\n",
      "Epoch 00043: val_acc did not improve from 0.56833\n",
      "Epoch 44/70\n",
      "9597/9597 [==============================] - 27s 3ms/step - loss: 0.9060 - acc: 0.6508 - val_loss: 1.0243 - val_acc: 0.6042\n",
      "\n",
      "Epoch 00044: val_acc improved from 0.56833 to 0.60417, saving model to ./models/crnn/weights.best.h5\n",
      "Epoch 45/70\n",
      "9597/9597 [==============================] - 32s 3ms/step - loss: 0.9098 - acc: 0.6513 - val_loss: 1.1303 - val_acc: 0.5458\n",
      "\n",
      "Epoch 00045: val_acc did not improve from 0.60417\n",
      "Epoch 46/70\n",
      "9597/9597 [==============================] - 33s 3ms/step - loss: 0.9048 - acc: 0.6546 - val_loss: 1.0724 - val_acc: 0.5925\n",
      "\n",
      "Epoch 00046: val_acc did not improve from 0.60417\n",
      "Epoch 47/70\n",
      "9597/9597 [==============================] - 27s 3ms/step - loss: 0.9001 - acc: 0.6606 - val_loss: 1.1081 - val_acc: 0.5433\n",
      "\n",
      "Epoch 00047: val_acc did not improve from 0.60417\n",
      "Epoch 48/70\n",
      "9597/9597 [==============================] - 38s 4ms/step - loss: 0.8950 - acc: 0.6567 - val_loss: 1.2886 - val_acc: 0.5000\n",
      "\n",
      "Epoch 00048: val_acc did not improve from 0.60417\n",
      "Epoch 49/70\n",
      "9597/9597 [==============================] - 27s 3ms/step - loss: 0.8854 - acc: 0.6579 - val_loss: 1.0952 - val_acc: 0.5392\n",
      "\n",
      "Epoch 00049: val_acc did not improve from 0.60417\n",
      "Epoch 50/70\n",
      "9597/9597 [==============================] - 27s 3ms/step - loss: 0.8934 - acc: 0.6599 - val_loss: 1.1737 - val_acc: 0.5050\n",
      "\n",
      "Epoch 00050: val_acc did not improve from 0.60417\n",
      "Epoch 51/70\n",
      "9597/9597 [==============================] - 27s 3ms/step - loss: 0.8943 - acc: 0.6571 - val_loss: 1.1803 - val_acc: 0.5425\n",
      "\n",
      "Epoch 00051: val_acc did not improve from 0.60417\n",
      "\n",
      "Epoch 00051: ReduceLROnPlateau reducing learning rate to 6.25000029685907e-05.\n",
      "Epoch 52/70\n",
      "9597/9597 [==============================] - 27s 3ms/step - loss: 0.8863 - acc: 0.6628 - val_loss: 1.0940 - val_acc: 0.5667\n",
      "\n",
      "Epoch 00052: val_acc did not improve from 0.60417\n",
      "Epoch 53/70\n",
      "9597/9597 [==============================] - 26s 3ms/step - loss: 0.8688 - acc: 0.6729 - val_loss: 1.0859 - val_acc: 0.5583\n",
      "\n",
      "Epoch 00053: val_acc did not improve from 0.60417\n",
      "Epoch 54/70\n",
      "9597/9597 [==============================] - 27s 3ms/step - loss: 0.8777 - acc: 0.6656 - val_loss: 1.0559 - val_acc: 0.5733\n",
      "\n",
      "Epoch 00054: val_acc did not improve from 0.60417\n",
      "Epoch 55/70\n",
      "9597/9597 [==============================] - 27s 3ms/step - loss: 0.8732 - acc: 0.6646 - val_loss: 1.1197 - val_acc: 0.5675\n",
      "\n",
      "Epoch 00055: val_acc did not improve from 0.60417\n",
      "Epoch 56/70\n",
      "9597/9597 [==============================] - 26s 3ms/step - loss: 0.8672 - acc: 0.6669 - val_loss: 1.1710 - val_acc: 0.5242\n",
      "\n",
      "Epoch 00056: val_acc did not improve from 0.60417\n",
      "Epoch 57/70\n",
      "9597/9597 [==============================] - 26s 3ms/step - loss: 0.8586 - acc: 0.6695 - val_loss: 1.0446 - val_acc: 0.5783\n",
      "\n",
      "Epoch 00057: val_acc did not improve from 0.60417\n",
      "Epoch 58/70\n",
      "9597/9597 [==============================] - 27s 3ms/step - loss: 0.8602 - acc: 0.6717 - val_loss: 1.1017 - val_acc: 0.5558\n",
      "\n",
      "Epoch 00058: val_acc did not improve from 0.60417\n",
      "\n",
      "Epoch 00058: ReduceLROnPlateau reducing learning rate to 3.125000148429535e-05.\n",
      "Epoch 59/70\n",
      "9597/9597 [==============================] - 26s 3ms/step - loss: 0.8568 - acc: 0.6724 - val_loss: 1.0580 - val_acc: 0.5817\n",
      "\n",
      "Epoch 00059: val_acc did not improve from 0.60417\n",
      "Epoch 60/70\n",
      "9597/9597 [==============================] - 26s 3ms/step - loss: 0.8602 - acc: 0.6748 - val_loss: 1.0524 - val_acc: 0.5700\n",
      "\n",
      "Epoch 00060: val_acc did not improve from 0.60417\n",
      "Epoch 61/70\n",
      "9597/9597 [==============================] - 26s 3ms/step - loss: 0.8578 - acc: 0.6756 - val_loss: 1.1003 - val_acc: 0.5775\n",
      "\n",
      "Epoch 00061: val_acc did not improve from 0.60417\n",
      "Epoch 62/70\n",
      "9597/9597 [==============================] - 26s 3ms/step - loss: 0.8552 - acc: 0.6714 - val_loss: 1.0864 - val_acc: 0.5608\n",
      "\n",
      "Epoch 00062: val_acc did not improve from 0.60417\n",
      "Epoch 63/70\n",
      "9597/9597 [==============================] - 26s 3ms/step - loss: 0.8519 - acc: 0.6775 - val_loss: 1.0522 - val_acc: 0.5733\n",
      "\n",
      "Epoch 00063: val_acc did not improve from 0.60417\n",
      "Epoch 64/70\n",
      "9597/9597 [==============================] - 27s 3ms/step - loss: 0.8556 - acc: 0.6757 - val_loss: 1.0511 - val_acc: 0.5600\n",
      "\n",
      "Epoch 00064: val_acc did not improve from 0.60417\n",
      "Epoch 65/70\n",
      "9597/9597 [==============================] - 26s 3ms/step - loss: 0.8459 - acc: 0.6771 - val_loss: 1.0423 - val_acc: 0.5800\n",
      "\n",
      "Epoch 00065: val_acc did not improve from 0.60417\n",
      "\n",
      "Epoch 00065: ReduceLROnPlateau reducing learning rate to 1.5625000742147677e-05.\n",
      "Epoch 66/70\n",
      "9597/9597 [==============================] - 27s 3ms/step - loss: 0.8473 - acc: 0.6725 - val_loss: 1.0670 - val_acc: 0.5742\n",
      "\n",
      "Epoch 00066: val_acc did not improve from 0.60417\n",
      "Epoch 67/70\n",
      "9597/9597 [==============================] - 27s 3ms/step - loss: 0.8501 - acc: 0.6740 - val_loss: 1.0542 - val_acc: 0.5758\n",
      "\n",
      "Epoch 00067: val_acc did not improve from 0.60417\n",
      "Epoch 68/70\n",
      "9597/9597 [==============================] - 26s 3ms/step - loss: 0.8449 - acc: 0.6791 - val_loss: 1.0820 - val_acc: 0.5725\n",
      "\n",
      "Epoch 00068: val_acc did not improve from 0.60417\n",
      "Epoch 69/70\n",
      "9597/9597 [==============================] - 27s 3ms/step - loss: 0.8472 - acc: 0.6773 - val_loss: 1.1096 - val_acc: 0.5692\n",
      "\n",
      "Epoch 00069: val_acc did not improve from 0.60417\n",
      "Epoch 70/70\n",
      "9597/9597 [==============================] - 26s 3ms/step - loss: 0.8387 - acc: 0.6800 - val_loss: 1.0608 - val_acc: 0.5733\n",
      "\n",
      "Epoch 00070: val_acc did not improve from 0.60417\n"
     ]
    }
   ],
   "source": [
    "model, history  = train_model(X_train, y_train, X_valid, y_valid)"
   ]
  },
  {
   "cell_type": "code",
   "execution_count": 14,
   "metadata": {
    "colab": {
     "base_uri": "https://localhost:8080/",
     "height": 590
    },
    "colab_type": "code",
    "executionInfo": {
     "elapsed": 2040245,
     "status": "ok",
     "timestamp": 1561369300661,
     "user": {
      "displayName": "chontipan plengvittaya",
      "photoUrl": "",
      "userId": "10515451504317762035"
     },
     "user_tz": -480
    },
    "id": "JgUzWpdfM2Ko",
    "outputId": "13bc6af5-56c1-46b2-be47-002f24b2bde4"
   },
   "outputs": [
    {
     "name": "stdout",
     "output_type": "stream",
     "text": [
      "dict_keys(['val_loss', 'val_acc', 'loss', 'acc', 'lr'])\n"
     ]
    },
    {
     "data": {
      "image/png": "[encoded data removed]",
      "text/plain": [
       "<Figure size 432x288 with 1 Axes>"
      ]
     },
     "metadata": {
      "tags": []
     },
     "output_type": "display_data"
    },
    {
     "data": {
      "image/png": "[encoded data removed]",
      "text/plain": [
       "<Figure size 432x288 with 1 Axes>"
      ]
     },
     "metadata": {
      "tags": []
     },
     "output_type": "display_data"
    }
   ],
   "source": [
    "show_summary_stats(history)"
   ]
  },
  {
   "cell_type": "code",
   "execution_count": 15,
   "metadata": {
    "colab": {
     "base_uri": "https://localhost:8080/",
     "height": 218
    },
    "colab_type": "code",
    "executionInfo": {
     "elapsed": 2041079,
     "status": "ok",
     "timestamp": 1561369301533,
     "user": {
      "displayName": "chontipan plengvittaya",
      "photoUrl": "",
      "userId": "10515451504317762035"
     },
     "user_tz": -480
    },
    "id": "doAZ1PzDM2Kt",
    "outputId": "f68d9ccf-23a1-4fc5-931c-c0d499e5e37b"
   },
   "outputs": [
    {
     "name": "stdout",
     "output_type": "stream",
     "text": [
      "(1200,) (1200,)\n",
      "              precision    recall  f1-score   support\n",
      "\n",
      "  Electronic       0.62      0.68      0.65       300\n",
      "        Folk       0.68      0.69      0.69       300\n",
      "         Pop       0.42      0.53      0.47       300\n",
      "Instrumental       0.62      0.40      0.49       300\n",
      "\n",
      "    accuracy                           0.57      1200\n",
      "   macro avg       0.59      0.57      0.57      1200\n",
      "weighted avg       0.59      0.57      0.57      1200\n",
      "\n"
     ]
    }
   ],
   "source": [
    "from sklearn.metrics import classification_report\n",
    "\n",
    "y_true = np.argmax(y_valid, axis = 1)\n",
    "y_pred = model.predict(X_valid)\n",
    "y_pred = np.argmax(y_pred, axis=1)\n",
    "labels = [0,1,2,3]\n",
    "target_names = dict_genres.keys()\n",
    "\n",
    "print(y_true.shape, y_pred.shape)\n",
    "print(classification_report(y_true, y_pred, target_names=target_names))\n"
   ]
  },
  {
   "cell_type": "code",
   "execution_count": 16,
   "metadata": {
    "colab": {
     "base_uri": "https://localhost:8080/",
     "height": 34
    },
    "colab_type": "code",
    "executionInfo": {
     "elapsed": 2041046,
     "status": "ok",
     "timestamp": 1561369301534,
     "user": {
      "displayName": "chontipan plengvittaya",
      "photoUrl": "",
      "userId": "10515451504317762035"
     },
     "user_tz": -480
    },
    "id": "DEgbVnXqM2Kx",
    "outputId": "91219ee5-8e24-4911-d6af-eaa408209ff6",
    "scrolled": true
   },
   "outputs": [
    {
     "name": "stdout",
     "output_type": "stream",
     "text": [
      "0.5733333333333334\n"
     ]
    }
   ],
   "source": [
    "from sklearn.metrics import accuracy_score\n",
    "\n",
    "print(accuracy_score(y_true, y_pred))"
   ]
  },
  {
   "cell_type": "markdown",
   "metadata": {
    "colab_type": "text",
    "id": "_O0Q2h2YM2K2"
   },
   "source": [
    "### Connect to Test Set"
   ]
  },
  {
   "cell_type": "code",
   "execution_count": 0,
   "metadata": {
    "colab": {},
    "colab_type": "code",
    "id": "u3cXwH-pM2K3"
   },
   "outputs": [],
   "source": [
    "from keras.models import load_model\n",
    "\n",
    "weights_path = 'models/crnn/weights.best.h5'\n",
    "model = load_model(weights_path)"
   ]
  },
  {
   "cell_type": "code",
   "execution_count": 18,
   "metadata": {
    "colab": {
     "base_uri": "https://localhost:8080/",
     "height": 50
    },
    "colab_type": "code",
    "executionInfo": {
     "elapsed": 2052682,
     "status": "ok",
     "timestamp": 1561369313222,
     "user": {
      "displayName": "chontipan plengvittaya",
      "photoUrl": "",
      "userId": "10515451504317762035"
     },
     "user_tz": -480
    },
    "id": "KgW0mwudM2K-",
    "outputId": "2ee390db-692a-4f6b-fa84-87fe66d647e9"
   },
   "outputs": [
    {
     "name": "stdout",
     "output_type": "stream",
     "text": [
      "['arr_0', 'arr_1']\n",
      "(1200, 420, 128) (1200,)\n"
     ]
    }
   ],
   "source": [
    "npzfile = np.load('loaddata/test_arr30.npz')\n",
    "print(npzfile.files)\n",
    "X_test = npzfile['arr_0']\n",
    "y_test = npzfile['arr_1']\n",
    "print(X_test.shape, y_test.shape)"
   ]
  },
  {
   "cell_type": "code",
   "execution_count": 19,
   "metadata": {
    "colab": {
     "base_uri": "https://localhost:8080/",
     "height": 218
    },
    "colab_type": "code",
    "executionInfo": {
     "elapsed": 2053779,
     "status": "ok",
     "timestamp": 1561369314357,
     "user": {
      "displayName": "chontipan plengvittaya",
      "photoUrl": "",
      "userId": "10515451504317762035"
     },
     "user_tz": -480
    },
    "id": "BDeBCXTQM2LT",
    "outputId": "e36ff9a7-7a01-484d-d604-24804fd1d7d0"
   },
   "outputs": [
    {
     "name": "stdout",
     "output_type": "stream",
     "text": [
      "(1200,) (1200,)\n",
      "              precision    recall  f1-score   support\n",
      "\n",
      "  Electronic       0.66      0.66      0.66       300\n",
      "        Folk       0.30      0.27      0.28       300\n",
      "         Pop       0.40      0.44      0.42       300\n",
      "Instrumental       0.40      0.39      0.39       300\n",
      "\n",
      "    accuracy                           0.44      1200\n",
      "   macro avg       0.44      0.44      0.44      1200\n",
      "weighted avg       0.44      0.44      0.44      1200\n",
      "\n"
     ]
    }
   ],
   "source": [
    "#X_test = np.log(X_test_raw)\n",
    "\n",
    "\n",
    "from sklearn.metrics import classification_report\n",
    "\n",
    "y_true = y_test\n",
    "y_pred = model.predict(X_test)\n",
    "y_pred = np.argmax(y_pred, axis=1)\n",
    "labels = [0,1,2,3,4]\n",
    "target_names = dict_genres.keys()\n",
    "\n",
    "print(y_true.shape, y_pred.shape)\n",
    "print(classification_report(y_true, y_pred, target_names=target_names))"
   ]
  },
  {
   "cell_type": "code",
   "execution_count": 20,
   "metadata": {
    "colab": {
     "base_uri": "https://localhost:8080/",
     "height": 50
    },
    "colab_type": "code",
    "executionInfo": {
     "elapsed": 2054891,
     "status": "ok",
     "timestamp": 1561369315500,
     "user": {
      "displayName": "chontipan plengvittaya",
      "photoUrl": "",
      "userId": "10515451504317762035"
     },
     "user_tz": -480
    },
    "id": "O3qqMGcvM2Lb",
    "outputId": "a46ba9ea-7c88-4196-e903-c0502a3b523b"
   },
   "outputs": [
    {
     "name": "stdout",
     "output_type": "stream",
     "text": [
      "1200/1200 [==============================] - 1s 1ms/step\n"
     ]
    },
    {
     "data": {
      "text/plain": [
       "[1.334909590880076, 0.44]"
      ]
     },
     "execution_count": 20,
     "metadata": {
      "tags": []
     },
     "output_type": "execute_result"
    }
   ],
   "source": [
    "y_test = keras.utils.to_categorical(y_test, num_classes=4)\n",
    "model.evaluate(X_test, y_test)"
   ]
  },
  {
   "cell_type": "code",
   "execution_count": 21,
   "metadata": {
    "colab": {
     "base_uri": "https://localhost:8080/",
     "height": 84
    },
    "colab_type": "code",
    "executionInfo": {
     "elapsed": 2054858,
     "status": "ok",
     "timestamp": 1561369315502,
     "user": {
      "displayName": "chontipan plengvittaya",
      "photoUrl": "",
      "userId": "10515451504317762035"
     },
     "user_tz": -480
    },
    "id": "UCsDOfafM2Lg",
    "outputId": "03e05cf9-430b-4650-d28d-0dd288529642"
   },
   "outputs": [
    {
     "name": "stdout",
     "output_type": "stream",
     "text": [
      "[[197  25  57  21]\n",
      " [  0  81  98 121]\n",
      " [ 87  43 132  38]\n",
      " [ 14 122  46 118]]\n"
     ]
    }
   ],
   "source": [
    "from sklearn.metrics import confusion_matrix\n",
    "\n",
    "print(confusion_matrix(y_true, y_pred))"
   ]
  },
  {
   "cell_type": "code",
   "execution_count": 22,
   "metadata": {
    "colab": {
     "base_uri": "https://localhost:8080/",
     "height": 34
    },
    "colab_type": "code",
    "executionInfo": {
     "elapsed": 2054828,
     "status": "ok",
     "timestamp": 1561369315503,
     "user": {
      "displayName": "chontipan plengvittaya",
      "photoUrl": "",
      "userId": "10515451504317762035"
     },
     "user_tz": -480
    },
    "id": "s34Ve8eVM2Lj",
    "outputId": "2e8492b4-5e58-459e-b862-ee7de697b6b4"
   },
   "outputs": [
    {
     "name": "stdout",
     "output_type": "stream",
     "text": [
      "0.44\n"
     ]
    }
   ],
   "source": [
    "from sklearn.metrics import accuracy_score\n",
    "\n",
    "print(accuracy_score(y_true, y_pred))"
   ]
  },
  {
   "cell_type": "code",
   "execution_count": 23,
   "metadata": {
    "colab": {
     "base_uri": "https://localhost:8080/",
     "height": 285
    },
    "colab_type": "code",
    "executionInfo": {
     "elapsed": 2055404,
     "status": "ok",
     "timestamp": 1561369316110,
     "user": {
      "displayName": "chontipan plengvittaya",
      "photoUrl": "",
      "userId": "10515451504317762035"
     },
     "user_tz": -480
    },
    "id": "qhx2NFCCM2Ln",
    "outputId": "e80b11de-a0b6-4b9a-80c4-6b523ae4149c"
   },
   "outputs": [
    {
     "data": {
      "image/png": "[encoded data removed]",
      "text/plain": [
       "<Figure size 432x288 with 1 Axes>"
      ]
     },
     "metadata": {
      "tags": []
     },
     "output_type": "display_data"
    }
   ],
   "source": [
    "### 4 clusters\n",
    "from sklearn.metrics import confusion_matrix\n",
    "import seaborn as sns\n",
    "\n",
    "\n",
    "mat = confusion_matrix(y_true, y_pred)\n",
    "sns.heatmap(mat.T, square=True, annot=True, fmt='d', cbar=False,\n",
    "            xticklabels=dict_genres.keys(),\n",
    "            yticklabels=dict_genres.keys())\n",
    "plt.xlabel('true label')\n",
    "plt.ylabel('predicted label');\n"
   ]
  }
 ],
 "metadata": {
  "accelerator": "GPU",
  "colab": {
   "collapsed_sections": [],
   "name": "CRNN_model_FMA.ipynb",
   "provenance": [],
   "version": "0.3.2"
  },
  "kernelspec": {
   "display_name": "Python 3",
   "language": "python",
   "name": "python3"
  },
  "language_info": {
   "codemirror_mode": {
    "name": "ipython",
    "version": 3
   },
   "file_extension": ".py",
   "mimetype": "text/x-python",
   "name": "python",
   "nbconvert_exporter": "python",
   "pygments_lexer": "ipython3",
   "version": "3.6.7"
  }
 },
 "nbformat": 4,
 "nbformat_minor": 1
}
