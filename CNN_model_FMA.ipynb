{
 "cells": [
  {
   "cell_type": "code",
   "execution_count": 0,
   "metadata": {
    "colab": {},
    "colab_type": "code",
    "id": "1VJM76_vM2Jt"
   },
   "outputs": [],
   "source": [
    "import numpy as np\n",
    "import os\n",
    "from os.path import isfile\n",
    "import keras\n",
    "from keras.models import Sequential, Model\n",
    "from keras.layers import Input, Dense, TimeDistributed, LSTM, Dropout, Activation\n",
    "from keras.layers import Conv1D, MaxPooling1D,MaxPooling2D, Flatten, Conv2D, BatchNormalization, Lambda, Reshape\n",
    "from keras.layers.advanced_activations import ELU\n",
    "from keras.callbacks import ModelCheckpoint, TensorBoard, ReduceLROnPlateau, EarlyStopping\n",
    "from keras import backend\n",
    "from keras.utils import np_utils\n",
    "from keras.optimizers import Adam, RMSprop\n",
    "\n",
    "from keras import regularizers\n",
    "\n",
    "\n",
    "import librosa\n",
    "import librosa.display\n",
    "import matplotlib.pyplot as plt\n",
    "%matplotlib inline"
   ]
  },
  {
   "cell_type": "code",
   "execution_count": 42,
   "metadata": {
    "colab": {
     "base_uri": "https://localhost:8080/",
     "height": 34
    },
    "colab_type": "code",
    "executionInfo": {
     "elapsed": 1669,
     "status": "ok",
     "timestamp": 1561703742467,
     "user": {
      "displayName": "chontipan plengvittaya",
      "photoUrl": "",
      "userId": "10515451504317762035"
     },
     "user_tz": -480
    },
    "id": "VKj-2OlXM8td",
    "outputId": "4f7c935c-d8db-42e0-f458-3b58af4d7238"
   },
   "outputs": [
    {
     "name": "stdout",
     "output_type": "stream",
     "text": [
      "Drive already mounted at /content/drive; to attempt to forcibly remount, call drive.mount(\"/content/drive\", force_remount=True).\n"
     ]
    }
   ],
   "source": [
    "from google.colab import drive\n",
    "drive.mount('/content/drive')"
   ]
  },
  {
   "cell_type": "code",
   "execution_count": 43,
   "metadata": {
    "colab": {
     "base_uri": "https://localhost:8080/",
     "height": 50
    },
    "colab_type": "code",
    "executionInfo": {
     "elapsed": 1616,
     "status": "ok",
     "timestamp": 1561703742468,
     "user": {
      "displayName": "chontipan plengvittaya",
      "photoUrl": "",
      "userId": "10515451504317762035"
     },
     "user_tz": -480
    },
    "id": "uGp2eFwiM_QO",
    "outputId": "2a929fb8-c72a-4384-ae32-848ef965b793"
   },
   "outputs": [
    {
     "name": "stdout",
     "output_type": "stream",
     "text": [
      "[Errno 2] No such file or directory: 'drive/My Drive/FMA_Music'\n",
      "/content/drive/My Drive/FMA_Music\n"
     ]
    }
   ],
   "source": [
    "cd drive/\"My Drive\"/FMA_Music"
   ]
  },
  {
   "cell_type": "markdown",
   "metadata": {
    "colab_type": "text",
    "id": "6cGHzCY-M2J6"
   },
   "source": [
    "### Load training and Validation arrays"
   ]
  },
  {
   "cell_type": "code",
   "execution_count": 44,
   "metadata": {
    "colab": {
     "base_uri": "https://localhost:8080/",
     "height": 34
    },
    "colab_type": "code",
    "executionInfo": {
     "elapsed": 1565,
     "status": "ok",
     "timestamp": 1561703742469,
     "user": {
      "displayName": "chontipan plengvittaya",
      "photoUrl": "",
      "userId": "10515451504317762035"
     },
     "user_tz": -480
    },
    "id": "Aij_bYn1M2J7",
    "outputId": "cb5857bc-970f-41f7-b550-1f4682f2550f"
   },
   "outputs": [
    {
     "name": "stdout",
     "output_type": "stream",
     "text": [
      "{0: 'Electronic', 1: 'Folk', 2: 'Pop', 3: 'Instrumental'}\n"
     ]
    }
   ],
   "source": [
    "dict_genres = {'Electronic':0,  'Folk':1,  'Pop' :2, 'Instrumental':3 }\n",
    "\n",
    "reverse_map = {v: k for k, v in dict_genres.items()}\n",
    "print(reverse_map)"
   ]
  },
  {
   "cell_type": "code",
   "execution_count": 45,
   "metadata": {
    "colab": {
     "base_uri": "https://localhost:8080/",
     "height": 50
    },
    "colab_type": "code",
    "executionInfo": {
     "elapsed": 25959,
     "status": "ok",
     "timestamp": 1561703766915,
     "user": {
      "displayName": "chontipan plengvittaya",
      "photoUrl": "",
      "userId": "10515451504317762035"
     },
     "user_tz": -480
    },
    "id": "b2IeszrwM2KA",
    "outputId": "93ed9aaa-7b40-460a-cabf-a482cf3c1301"
   },
   "outputs": [
    {
     "name": "stdout",
     "output_type": "stream",
     "text": [
      "['arr_0', 'arr_1']\n",
      "(9597, 420, 128) (9597,)\n"
     ]
    }
   ],
   "source": [
    "npzfile = np.load('loaddata/suf_train_arr30.npz')\n",
    "print(npzfile.files)\n",
    "X_train = npzfile['arr_0']\n",
    "y_train = npzfile['arr_1']\n",
    "print(X_train.shape, y_train.shape)"
   ]
  },
  {
   "cell_type": "code",
   "execution_count": 46,
   "metadata": {
    "colab": {
     "base_uri": "https://localhost:8080/",
     "height": 50
    },
    "colab_type": "code",
    "executionInfo": {
     "elapsed": 28925,
     "status": "ok",
     "timestamp": 1561703769935,
     "user": {
      "displayName": "chontipan plengvittaya",
      "photoUrl": "",
      "userId": "10515451504317762035"
     },
     "user_tz": -480
    },
    "id": "rB2Z7CkMM2KF",
    "outputId": "40d64680-470f-4e55-ac59-b8059d65b9e0"
   },
   "outputs": [
    {
     "name": "stdout",
     "output_type": "stream",
     "text": [
      "['arr_0', 'arr_1']\n",
      "(1200, 420, 128) (1200,)\n"
     ]
    }
   ],
   "source": [
    "npzfile = np.load('loaddata/suf_valid_arr30.npz')\n",
    "print(npzfile.files)\n",
    "X_valid = npzfile['arr_0']\n",
    "y_valid = npzfile['arr_1']\n",
    "print(X_valid.shape, y_valid.shape)"
   ]
  },
  {
   "cell_type": "code",
   "execution_count": 0,
   "metadata": {
    "colab": {},
    "colab_type": "code",
    "id": "2scDCE-WBmWD"
   },
   "outputs": [],
   "source": [
    "y_train = np_utils.to_categorical(y_train)\n",
    "y_valid = np_utils.to_categorical(y_valid)"
   ]
  },
  {
   "cell_type": "code",
   "execution_count": 0,
   "metadata": {
    "colab": {},
    "colab_type": "code",
    "id": "vvszq3T6mkPR"
   },
   "outputs": [],
   "source": [
    "X_train = X_train[..., np.newaxis]\n",
    "X_valid = X_valid[..., np.newaxis]"
   ]
  },
  {
   "cell_type": "markdown",
   "metadata": {
    "colab_type": "text",
    "id": "ODuVzcSwM2KQ"
   },
   "source": [
    "### CNN Model"
   ]
  },
  {
   "cell_type": "code",
   "execution_count": 49,
   "metadata": {
    "colab": {
     "base_uri": "https://localhost:8080/",
     "height": 1000
    },
    "colab_type": "code",
    "executionInfo": {
     "elapsed": 1733410,
     "status": "ok",
     "timestamp": 1561705474485,
     "user": {
      "displayName": "chontipan plengvittaya",
      "photoUrl": "",
      "userId": "10515451504317762035"
     },
     "user_tz": -480
    },
    "id": "NKGt1P2HM2KR",
    "outputId": "b8820913-25bc-49a5-9431-252a515d394c"
   },
   "outputs": [
    {
     "name": "stdout",
     "output_type": "stream",
     "text": [
      "_________________________________________________________________\n",
      "Layer (type)                 Output Shape              Param #   \n",
      "=================================================================\n",
      "conv2d_10 (Conv2D)           (None, 418, 126, 32)      320       \n",
      "_________________________________________________________________\n",
      "batch_normalization_6 (Batch (None, 418, 126, 32)      128       \n",
      "_________________________________________________________________\n",
      "max_pooling2d_10 (MaxPooling (None, 209, 63, 32)       0         \n",
      "_________________________________________________________________\n",
      "dropout_6 (Dropout)          (None, 209, 63, 32)       0         \n",
      "_________________________________________________________________\n",
      "conv2d_11 (Conv2D)           (None, 207, 61, 32)       9248      \n",
      "_________________________________________________________________\n",
      "batch_normalization_7 (Batch (None, 207, 61, 32)       128       \n",
      "_________________________________________________________________\n",
      "max_pooling2d_11 (MaxPooling (None, 103, 30, 32)       0         \n",
      "_________________________________________________________________\n",
      "dropout_7 (Dropout)          (None, 103, 30, 32)       0         \n",
      "_________________________________________________________________\n",
      "conv2d_12 (Conv2D)           (None, 101, 28, 32)       9248      \n",
      "_________________________________________________________________\n",
      "batch_normalization_8 (Batch (None, 101, 28, 32)       128       \n",
      "_________________________________________________________________\n",
      "max_pooling2d_12 (MaxPooling (None, 50, 14, 32)        0         \n",
      "_________________________________________________________________\n",
      "dropout_8 (Dropout)          (None, 50, 14, 32)        0         \n",
      "_________________________________________________________________\n",
      "conv2d_13 (Conv2D)           (None, 48, 12, 32)        9248      \n",
      "_________________________________________________________________\n",
      "batch_normalization_9 (Batch (None, 48, 12, 32)        128       \n",
      "_________________________________________________________________\n",
      "max_pooling2d_13 (MaxPooling (None, 24, 6, 32)         0         \n",
      "_________________________________________________________________\n",
      "dropout_9 (Dropout)          (None, 24, 6, 32)         0         \n",
      "_________________________________________________________________\n",
      "flatten_3 (Flatten)          (None, 4608)              0         \n",
      "_________________________________________________________________\n",
      "dense_3 (Dense)              (None, 4)                 18436     \n",
      "=================================================================\n",
      "Total params: 47,012\n",
      "Trainable params: 46,756\n",
      "Non-trainable params: 256\n",
      "_________________________________________________________________\n",
      "None\n",
      "Train on 9597 samples, validate on 1200 samples\n",
      "Epoch 1/70\n",
      "9597/9597 [==============================] - 26s 3ms/step - loss: 2.1539 - acc: 0.4106 - val_loss: 1.5138 - val_acc: 0.4275\n",
      "\n",
      "Epoch 00001: val_acc improved from -inf to 0.42750, saving model to ./models/cnn/weights.best.h5\n",
      "Epoch 2/70\n",
      "9597/9597 [==============================] - 24s 3ms/step - loss: 1.5441 - acc: 0.4799 - val_loss: 1.1594 - val_acc: 0.4392\n",
      "\n",
      "Epoch 00002: val_acc improved from 0.42750 to 0.43917, saving model to ./models/cnn/weights.best.h5\n",
      "Epoch 3/70\n",
      "9597/9597 [==============================] - 24s 3ms/step - loss: 1.3670 - acc: 0.4969 - val_loss: 1.5898 - val_acc: 0.3400\n",
      "\n",
      "Epoch 00003: val_acc did not improve from 0.43917\n",
      "Epoch 4/70\n",
      "9597/9597 [==============================] - 24s 3ms/step - loss: 1.2387 - acc: 0.5293 - val_loss: 1.1939 - val_acc: 0.4600\n",
      "\n",
      "Epoch 00004: val_acc improved from 0.43917 to 0.46000, saving model to ./models/cnn/weights.best.h5\n",
      "Epoch 5/70\n",
      "9597/9597 [==============================] - 24s 3ms/step - loss: 1.1904 - acc: 0.5378 - val_loss: 1.5254 - val_acc: 0.3042\n",
      "\n",
      "Epoch 00005: val_acc did not improve from 0.46000\n",
      "Epoch 6/70\n",
      "9597/9597 [==============================] - 24s 3ms/step - loss: 1.1694 - acc: 0.5428 - val_loss: 1.2900 - val_acc: 0.4308\n",
      "\n",
      "Epoch 00006: val_acc did not improve from 0.46000\n",
      "Epoch 7/70\n",
      "9597/9597 [==============================] - 24s 3ms/step - loss: 1.1134 - acc: 0.5640 - val_loss: 1.2048 - val_acc: 0.4242\n",
      "\n",
      "Epoch 00007: val_acc did not improve from 0.46000\n",
      "Epoch 8/70\n",
      "9597/9597 [==============================] - 24s 3ms/step - loss: 1.0832 - acc: 0.5730 - val_loss: 1.4149 - val_acc: 0.4042\n",
      "\n",
      "Epoch 00008: val_acc did not improve from 0.46000\n",
      "Epoch 9/70\n",
      "9597/9597 [==============================] - 24s 3ms/step - loss: 1.0620 - acc: 0.5824 - val_loss: 1.1687 - val_acc: 0.4583\n",
      "\n",
      "Epoch 00009: val_acc did not improve from 0.46000\n",
      "Epoch 10/70\n",
      "9597/9597 [==============================] - 24s 3ms/step - loss: 1.0485 - acc: 0.5873 - val_loss: 1.1131 - val_acc: 0.5267\n",
      "\n",
      "Epoch 00010: val_acc improved from 0.46000 to 0.52667, saving model to ./models/cnn/weights.best.h5\n",
      "Epoch 11/70\n",
      "9597/9597 [==============================] - 24s 3ms/step - loss: 1.0323 - acc: 0.5895 - val_loss: 1.0951 - val_acc: 0.4975\n",
      "\n",
      "Epoch 00011: val_acc did not improve from 0.52667\n",
      "Epoch 12/70\n",
      "9597/9597 [==============================] - 24s 3ms/step - loss: 1.0209 - acc: 0.5935 - val_loss: 1.0140 - val_acc: 0.5508\n",
      "\n",
      "Epoch 00012: val_acc improved from 0.52667 to 0.55083, saving model to ./models/cnn/weights.best.h5\n",
      "Epoch 13/70\n",
      "9597/9597 [==============================] - 24s 3ms/step - loss: 1.0021 - acc: 0.6071 - val_loss: 1.1007 - val_acc: 0.4808\n",
      "\n",
      "Epoch 00013: val_acc did not improve from 0.55083\n",
      "Epoch 14/70\n",
      "9597/9597 [==============================] - 24s 3ms/step - loss: 0.9986 - acc: 0.6021 - val_loss: 1.4472 - val_acc: 0.4083\n",
      "\n",
      "Epoch 00014: val_acc did not improve from 0.55083\n",
      "Epoch 15/70\n",
      "9597/9597 [==============================] - 24s 3ms/step - loss: 0.9778 - acc: 0.6143 - val_loss: 1.1121 - val_acc: 0.4933\n",
      "\n",
      "Epoch 00015: val_acc did not improve from 0.55083\n",
      "Epoch 16/70\n",
      "9597/9597 [==============================] - 24s 3ms/step - loss: 0.9690 - acc: 0.6088 - val_loss: 2.5077 - val_acc: 0.2592\n",
      "\n",
      "Epoch 00016: val_acc did not improve from 0.55083\n",
      "Epoch 17/70\n",
      "9597/9597 [==============================] - 24s 3ms/step - loss: 0.9558 - acc: 0.6135 - val_loss: 1.1269 - val_acc: 0.5283\n",
      "\n",
      "Epoch 00017: val_acc did not improve from 0.55083\n",
      "Epoch 18/70\n",
      "9597/9597 [==============================] - 24s 3ms/step - loss: 0.9527 - acc: 0.6250 - val_loss: 1.4275 - val_acc: 0.4675\n",
      "\n",
      "Epoch 00018: val_acc did not improve from 0.55083\n",
      "Epoch 19/70\n",
      "9597/9597 [==============================] - 24s 3ms/step - loss: 0.9405 - acc: 0.6262 - val_loss: 1.0244 - val_acc: 0.5525\n",
      "\n",
      "Epoch 00019: val_acc improved from 0.55083 to 0.55250, saving model to ./models/cnn/weights.best.h5\n",
      "Epoch 20/70\n",
      "9597/9597 [==============================] - 24s 3ms/step - loss: 0.9349 - acc: 0.6288 - val_loss: 1.4999 - val_acc: 0.4575\n",
      "\n",
      "Epoch 00020: val_acc did not improve from 0.55250\n",
      "Epoch 21/70\n",
      "9597/9597 [==============================] - 24s 3ms/step - loss: 0.9211 - acc: 0.6350 - val_loss: 1.2422 - val_acc: 0.5092\n",
      "\n",
      "Epoch 00021: val_acc did not improve from 0.55250\n",
      "Epoch 22/70\n",
      "9597/9597 [==============================] - 24s 3ms/step - loss: 0.9074 - acc: 0.6379 - val_loss: 1.0366 - val_acc: 0.5258\n",
      "\n",
      "Epoch 00022: val_acc did not improve from 0.55250\n",
      "\n",
      "Epoch 00022: ReduceLROnPlateau reducing learning rate to 0.0002500000118743628.\n",
      "Epoch 23/70\n",
      "9597/9597 [==============================] - 24s 3ms/step - loss: 0.8950 - acc: 0.6433 - val_loss: 1.0117 - val_acc: 0.5475\n",
      "\n",
      "Epoch 00023: val_acc did not improve from 0.55250\n",
      "Epoch 24/70\n",
      "9597/9597 [==============================] - 24s 3ms/step - loss: 0.8868 - acc: 0.6447 - val_loss: 1.0053 - val_acc: 0.5542\n",
      "\n",
      "Epoch 00024: val_acc improved from 0.55250 to 0.55417, saving model to ./models/cnn/weights.best.h5\n",
      "Epoch 25/70\n",
      "9597/9597 [==============================] - 24s 3ms/step - loss: 0.8745 - acc: 0.6494 - val_loss: 1.2705 - val_acc: 0.4900\n",
      "\n",
      "Epoch 00025: val_acc did not improve from 0.55417\n",
      "Epoch 26/70\n",
      "9597/9597 [==============================] - 24s 3ms/step - loss: 0.8639 - acc: 0.6510 - val_loss: 0.9682 - val_acc: 0.5875\n",
      "\n",
      "Epoch 00026: val_acc improved from 0.55417 to 0.58750, saving model to ./models/cnn/weights.best.h5\n",
      "Epoch 27/70\n",
      "9597/9597 [==============================] - 24s 3ms/step - loss: 0.8653 - acc: 0.6537 - val_loss: 1.0240 - val_acc: 0.5692\n",
      "\n",
      "Epoch 00027: val_acc did not improve from 0.58750\n",
      "Epoch 28/70\n",
      "9597/9597 [==============================] - 24s 3ms/step - loss: 0.8655 - acc: 0.6503 - val_loss: 0.9868 - val_acc: 0.5708\n",
      "\n",
      "Epoch 00028: val_acc did not improve from 0.58750\n",
      "Epoch 29/70\n",
      "9597/9597 [==============================] - 24s 3ms/step - loss: 0.8601 - acc: 0.6566 - val_loss: 1.0032 - val_acc: 0.5700\n",
      "\n",
      "Epoch 00029: val_acc did not improve from 0.58750\n",
      "Epoch 30/70\n",
      "9597/9597 [==============================] - 24s 3ms/step - loss: 0.8576 - acc: 0.6503 - val_loss: 0.9927 - val_acc: 0.5800\n",
      "\n",
      "Epoch 00030: val_acc did not improve from 0.58750\n",
      "Epoch 31/70\n",
      "9597/9597 [==============================] - 24s 3ms/step - loss: 0.8527 - acc: 0.6600 - val_loss: 1.0142 - val_acc: 0.5733\n",
      "\n",
      "Epoch 00031: val_acc did not improve from 0.58750\n",
      "Epoch 32/70\n",
      "9597/9597 [==============================] - 24s 3ms/step - loss: 0.8442 - acc: 0.6626 - val_loss: 0.9946 - val_acc: 0.5883\n",
      "\n",
      "Epoch 00032: val_acc improved from 0.58750 to 0.58833, saving model to ./models/cnn/weights.best.h5\n",
      "Epoch 33/70\n",
      "9597/9597 [==============================] - 24s 3ms/step - loss: 0.8404 - acc: 0.6637 - val_loss: 1.0172 - val_acc: 0.5933\n",
      "\n",
      "Epoch 00033: val_acc improved from 0.58833 to 0.59333, saving model to ./models/cnn/weights.best.h5\n",
      "Epoch 34/70\n",
      "9597/9597 [==============================] - 24s 3ms/step - loss: 0.8349 - acc: 0.6700 - val_loss: 1.4844 - val_acc: 0.4850\n",
      "\n",
      "Epoch 00034: val_acc did not improve from 0.59333\n",
      "Epoch 35/70\n",
      "9597/9597 [==============================] - 24s 3ms/step - loss: 0.8314 - acc: 0.6708 - val_loss: 0.9489 - val_acc: 0.5942\n",
      "\n",
      "Epoch 00035: val_acc improved from 0.59333 to 0.59417, saving model to ./models/cnn/weights.best.h5\n",
      "Epoch 36/70\n",
      "9597/9597 [==============================] - 24s 3ms/step - loss: 0.8316 - acc: 0.6691 - val_loss: 0.9258 - val_acc: 0.6150\n",
      "\n",
      "Epoch 00036: val_acc improved from 0.59417 to 0.61500, saving model to ./models/cnn/weights.best.h5\n",
      "Epoch 37/70\n",
      "9597/9597 [==============================] - 24s 3ms/step - loss: 0.8275 - acc: 0.6672 - val_loss: 1.0677 - val_acc: 0.5542\n",
      "\n",
      "Epoch 00037: val_acc did not improve from 0.61500\n",
      "Epoch 38/70\n",
      "9597/9597 [==============================] - 24s 3ms/step - loss: 0.8237 - acc: 0.6714 - val_loss: 0.9912 - val_acc: 0.5717\n",
      "\n",
      "Epoch 00038: val_acc did not improve from 0.61500\n",
      "Epoch 39/70\n",
      "9597/9597 [==============================] - 24s 3ms/step - loss: 0.8128 - acc: 0.6802 - val_loss: 1.1203 - val_acc: 0.5317\n",
      "\n",
      "Epoch 00039: val_acc did not improve from 0.61500\n",
      "Epoch 40/70\n",
      "9597/9597 [==============================] - 24s 3ms/step - loss: 0.8264 - acc: 0.6730 - val_loss: 1.0559 - val_acc: 0.5617\n",
      "\n",
      "Epoch 00040: val_acc did not improve from 0.61500\n",
      "Epoch 41/70\n",
      "9597/9597 [==============================] - 24s 3ms/step - loss: 0.8081 - acc: 0.6808 - val_loss: 1.0437 - val_acc: 0.5400\n",
      "\n",
      "Epoch 00041: val_acc did not improve from 0.61500\n",
      "Epoch 42/70\n",
      "9597/9597 [==============================] - 24s 3ms/step - loss: 0.8103 - acc: 0.6767 - val_loss: 1.1988 - val_acc: 0.5192\n",
      "\n",
      "Epoch 00042: val_acc did not improve from 0.61500\n",
      "Epoch 43/70\n",
      "9597/9597 [==============================] - 24s 3ms/step - loss: 0.8017 - acc: 0.6815 - val_loss: 1.1642 - val_acc: 0.5308\n",
      "\n",
      "Epoch 00043: val_acc did not improve from 0.61500\n",
      "Epoch 44/70\n",
      "9597/9597 [==============================] - 24s 3ms/step - loss: 0.7980 - acc: 0.6828 - val_loss: 1.1579 - val_acc: 0.5350\n",
      "\n",
      "Epoch 00044: val_acc did not improve from 0.61500\n",
      "Epoch 45/70\n",
      "9597/9597 [==============================] - 24s 3ms/step - loss: 0.8086 - acc: 0.6757 - val_loss: 1.0132 - val_acc: 0.5692\n",
      "\n",
      "Epoch 00045: val_acc did not improve from 0.61500\n",
      "Epoch 46/70\n",
      "9597/9597 [==============================] - 24s 3ms/step - loss: 0.8015 - acc: 0.6792 - val_loss: 1.1306 - val_acc: 0.5300\n",
      "\n",
      "Epoch 00046: val_acc did not improve from 0.61500\n",
      "\n",
      "Epoch 00046: ReduceLROnPlateau reducing learning rate to 0.0001250000059371814.\n",
      "Epoch 47/70\n",
      "9597/9597 [==============================] - 24s 3ms/step - loss: 0.7847 - acc: 0.6810 - val_loss: 0.9448 - val_acc: 0.6142\n",
      "\n",
      "Epoch 00047: val_acc did not improve from 0.61500\n",
      "Epoch 48/70\n",
      "9597/9597 [==============================] - 24s 3ms/step - loss: 0.7819 - acc: 0.6869 - val_loss: 0.9822 - val_acc: 0.5983\n",
      "\n",
      "Epoch 00048: val_acc did not improve from 0.61500\n",
      "Epoch 49/70\n",
      "9597/9597 [==============================] - 24s 3ms/step - loss: 0.7729 - acc: 0.6932 - val_loss: 0.9440 - val_acc: 0.5983\n",
      "\n",
      "Epoch 00049: val_acc did not improve from 0.61500\n",
      "Epoch 50/70\n",
      "9597/9597 [==============================] - 24s 3ms/step - loss: 0.7759 - acc: 0.6897 - val_loss: 0.9328 - val_acc: 0.6217\n",
      "\n",
      "Epoch 00050: val_acc improved from 0.61500 to 0.62167, saving model to ./models/cnn/weights.best.h5\n",
      "Epoch 51/70\n",
      "9597/9597 [==============================] - 24s 3ms/step - loss: 0.7672 - acc: 0.6944 - val_loss: 1.0341 - val_acc: 0.5625\n",
      "\n",
      "Epoch 00051: val_acc did not improve from 0.62167\n",
      "Epoch 52/70\n",
      "9597/9597 [==============================] - 24s 3ms/step - loss: 0.7740 - acc: 0.6940 - val_loss: 0.9820 - val_acc: 0.5925\n",
      "\n",
      "Epoch 00052: val_acc did not improve from 0.62167\n",
      "Epoch 53/70\n",
      "9597/9597 [==============================] - 24s 3ms/step - loss: 0.7644 - acc: 0.6936 - val_loss: 0.9221 - val_acc: 0.6108\n",
      "\n",
      "Epoch 00053: val_acc did not improve from 0.62167\n",
      "Epoch 54/70\n",
      "9597/9597 [==============================] - 24s 3ms/step - loss: 0.7608 - acc: 0.6952 - val_loss: 0.9470 - val_acc: 0.6008\n",
      "\n",
      "Epoch 00054: val_acc did not improve from 0.62167\n",
      "Epoch 55/70\n",
      "9597/9597 [==============================] - 24s 3ms/step - loss: 0.7650 - acc: 0.6940 - val_loss: 0.9509 - val_acc: 0.5908\n",
      "\n",
      "Epoch 00055: val_acc did not improve from 0.62167\n",
      "Epoch 56/70\n",
      "9597/9597 [==============================] - 24s 3ms/step - loss: 0.7646 - acc: 0.6968 - val_loss: 0.9284 - val_acc: 0.6175\n",
      "\n",
      "Epoch 00056: val_acc did not improve from 0.62167\n",
      "\n",
      "Epoch 00056: ReduceLROnPlateau reducing learning rate to 6.25000029685907e-05.\n",
      "Epoch 57/70\n",
      "9597/9597 [==============================] - 24s 3ms/step - loss: 0.7493 - acc: 0.7049 - val_loss: 0.9823 - val_acc: 0.5917\n",
      "\n",
      "Epoch 00057: val_acc did not improve from 0.62167\n",
      "Epoch 58/70\n",
      "9597/9597 [==============================] - 24s 3ms/step - loss: 0.7503 - acc: 0.7042 - val_loss: 0.9710 - val_acc: 0.5900\n",
      "\n",
      "Epoch 00058: val_acc did not improve from 0.62167\n",
      "Epoch 59/70\n",
      "9597/9597 [==============================] - 24s 3ms/step - loss: 0.7460 - acc: 0.7028 - val_loss: 0.9442 - val_acc: 0.6058\n",
      "\n",
      "Epoch 00059: val_acc did not improve from 0.62167\n",
      "Epoch 60/70\n",
      "9597/9597 [==============================] - 24s 3ms/step - loss: 0.7514 - acc: 0.7027 - val_loss: 0.9491 - val_acc: 0.6033\n",
      "\n",
      "Epoch 00060: val_acc did not improve from 0.62167\n",
      "Epoch 61/70\n",
      "9597/9597 [==============================] - 24s 3ms/step - loss: 0.7554 - acc: 0.6987 - val_loss: 0.9724 - val_acc: 0.5883\n",
      "\n",
      "Epoch 00061: val_acc did not improve from 0.62167\n",
      "Epoch 62/70\n",
      "9597/9597 [==============================] - 24s 3ms/step - loss: 0.7513 - acc: 0.7098 - val_loss: 0.9626 - val_acc: 0.5917\n",
      "\n",
      "Epoch 00062: val_acc did not improve from 0.62167\n",
      "Epoch 63/70\n",
      "9597/9597 [==============================] - 24s 3ms/step - loss: 0.7442 - acc: 0.7061 - val_loss: 0.9276 - val_acc: 0.6208\n",
      "\n",
      "Epoch 00063: val_acc did not improve from 0.62167\n",
      "Epoch 64/70\n",
      "9597/9597 [==============================] - 24s 3ms/step - loss: 0.7513 - acc: 0.6980 - val_loss: 0.9741 - val_acc: 0.5975\n",
      "\n",
      "Epoch 00064: val_acc did not improve from 0.62167\n",
      "Epoch 65/70\n",
      "9597/9597 [==============================] - 24s 3ms/step - loss: 0.7426 - acc: 0.7055 - val_loss: 0.9380 - val_acc: 0.6092\n",
      "\n",
      "Epoch 00065: val_acc did not improve from 0.62167\n",
      "Epoch 66/70\n",
      "9597/9597 [==============================] - 24s 3ms/step - loss: 0.7368 - acc: 0.7082 - val_loss: 0.9485 - val_acc: 0.5933\n",
      "\n",
      "Epoch 00066: val_acc did not improve from 0.62167\n",
      "\n",
      "Epoch 00066: ReduceLROnPlateau reducing learning rate to 3.125000148429535e-05.\n",
      "Epoch 67/70\n",
      "9597/9597 [==============================] - 24s 3ms/step - loss: 0.7345 - acc: 0.7110 - val_loss: 0.9378 - val_acc: 0.6000\n",
      "\n",
      "Epoch 00067: val_acc did not improve from 0.62167\n",
      "Epoch 68/70\n",
      "9597/9597 [==============================] - 24s 3ms/step - loss: 0.7405 - acc: 0.7119 - val_loss: 0.9304 - val_acc: 0.6117\n",
      "\n",
      "Epoch 00068: val_acc did not improve from 0.62167\n",
      "Epoch 69/70\n",
      "9597/9597 [==============================] - 24s 3ms/step - loss: 0.7370 - acc: 0.7100 - val_loss: 0.9302 - val_acc: 0.6125\n",
      "\n",
      "Epoch 00069: val_acc did not improve from 0.62167\n",
      "Epoch 70/70\n",
      "9597/9597 [==============================] - 24s 3ms/step - loss: 0.7375 - acc: 0.7115 - val_loss: 0.9639 - val_acc: 0.5942\n",
      "\n",
      "Epoch 00070: val_acc did not improve from 0.62167\n"
     ]
    }
   ],
   "source": [
    "freq=128\n",
    "timeframe=420\n",
    "input_shape=(timeframe, freq, 1)\n",
    "model = Sequential()\n",
    "model.add(Conv2D(32, kernel_size=(3, 3),\n",
    "                 activation='relu',\n",
    "                 input_shape=input_shape))\n",
    "model.add(BatchNormalization())\n",
    "model.add(MaxPooling2D(pool_size=(2, 2)))\n",
    "model.add(Dropout(0.5))\n",
    "model.add(Conv2D(32, (3, 3), activation='relu'))\n",
    "model.add(BatchNormalization())\n",
    "model.add(MaxPooling2D(pool_size=(2, 2)))\n",
    "model.add(Dropout(0.5))\n",
    "model.add(Conv2D(32, (3, 3), activation='relu'))\n",
    "model.add(BatchNormalization())\n",
    "model.add(MaxPooling2D(pool_size=(2, 2)))\n",
    "model.add(Dropout(0.5))\n",
    "model.add(Conv2D(32, (3, 3), activation='relu'))\n",
    "model.add(BatchNormalization())\n",
    "model.add(MaxPooling2D(pool_size=(2, 2)))\n",
    "model.add(Dropout(0.5))\n",
    "\n",
    "model.add(Flatten())\n",
    "model.add(Dense(4, activation='softmax'))\n",
    "\n",
    "opt=keras.optimizers.Adam(lr=0.0005)\n",
    "\n",
    "model.compile(loss=keras.losses.categorical_crossentropy,\n",
    "              optimizer=opt,\n",
    "              metrics=['accuracy'])\n",
    "\n",
    "print(model.summary())\n",
    "\n",
    "checkpoint_callback = ModelCheckpoint('./models/cnn/weights.best.h5', monitor='val_acc', verbose=1,\n",
    "                                          save_best_only=True, mode='max')\n",
    "\n",
    "\n",
    "\n",
    "earlyStopping = EarlyStopping(monitor='val_acc', patience=25, verbose=1, mode='max')\n",
    "    \n",
    "reducelr_callback = ReduceLROnPlateau(\n",
    "                monitor='val_acc', factor=0.5, patience=10, min_delta=0.01,\n",
    "                verbose=1\n",
    "            )\n",
    "callbacks_list = [earlyStopping,checkpoint_callback, reducelr_callback]\n",
    "\n",
    "\n",
    "history=model.fit(X_train, y_train,\n",
    "          batch_size=32,\n",
    "          epochs=70,\n",
    "          verbose=1,\n",
    "          validation_data=(X_valid, y_valid),callbacks=callbacks_list)"
   ]
  },
  {
   "cell_type": "code",
   "execution_count": 0,
   "metadata": {
    "colab": {},
    "colab_type": "code",
    "id": "sWkVWpMOM2Ke"
   },
   "outputs": [],
   "source": [
    "def show_summary_stats(history):\n",
    "    # List all data in history\n",
    "    print(history.history.keys())\n",
    "\n",
    "    # Summarize history for accuracy\n",
    "    plt.plot(history.history['acc'])\n",
    "    plt.plot(history.history['val_acc'])\n",
    "    plt.title('model accuracy')\n",
    "    plt.ylabel('accuracy')\n",
    "    plt.xlabel('epoch')\n",
    "    plt.legend(['train', 'test'], loc='upper left')\n",
    "    plt.show()\n",
    "\n",
    "    # Summarize history for loss\n",
    "    plt.plot(history.history['loss'])\n",
    "    plt.plot(history.history['val_loss'])\n",
    "    plt.title('model loss')\n",
    "    plt.ylabel('loss')\n",
    "    plt.xlabel('epoch')\n",
    "    plt.legend(['train', 'test'], loc='upper left')\n",
    "    plt.show()"
   ]
  },
  {
   "cell_type": "code",
   "execution_count": 51,
   "metadata": {
    "colab": {
     "base_uri": "https://localhost:8080/",
     "height": 590
    },
    "colab_type": "code",
    "executionInfo": {
     "elapsed": 1733942,
     "status": "ok",
     "timestamp": 1561705475071,
     "user": {
      "displayName": "chontipan plengvittaya",
      "photoUrl": "",
      "userId": "10515451504317762035"
     },
     "user_tz": -480
    },
    "id": "JgUzWpdfM2Ko",
    "outputId": "de01763b-9ce6-43b8-af69-5e32f497d239"
   },
   "outputs": [
    {
     "name": "stdout",
     "output_type": "stream",
     "text": [
      "dict_keys(['val_loss', 'val_acc', 'loss', 'acc', 'lr'])\n"
     ]
    },
    {
     "data": {
      "image/png": "[encoded data removed]",
      "text/plain": [
       "<Figure size 432x288 with 1 Axes>"
      ]
     },
     "metadata": {
      "tags": []
     },
     "output_type": "display_data"
    },
    {
     "data": {
      "image/png": "[encoded data removed]",
      "text/plain": [
       "<Figure size 432x288 with 1 Axes>"
      ]
     },
     "metadata": {
      "tags": []
     },
     "output_type": "display_data"
    }
   ],
   "source": [
    "show_summary_stats(history)"
   ]
  },
  {
   "cell_type": "code",
   "execution_count": 52,
   "metadata": {
    "colab": {
     "base_uri": "https://localhost:8080/",
     "height": 218
    },
    "colab_type": "code",
    "executionInfo": {
     "elapsed": 1735320,
     "status": "ok",
     "timestamp": 1561705476491,
     "user": {
      "displayName": "chontipan plengvittaya",
      "photoUrl": "",
      "userId": "10515451504317762035"
     },
     "user_tz": -480
    },
    "id": "doAZ1PzDM2Kt",
    "outputId": "1061f992-e2c2-4469-942a-3a17e8c5a04d"
   },
   "outputs": [
    {
     "name": "stdout",
     "output_type": "stream",
     "text": [
      "(1200,) (1200,)\n",
      "              precision    recall  f1-score   support\n",
      "\n",
      "  Electronic       0.71      0.71      0.71       300\n",
      "        Folk       0.80      0.49      0.61       300\n",
      "         Pop       0.44      0.41      0.43       300\n",
      "Instrumental       0.52      0.76      0.62       300\n",
      "\n",
      "    accuracy                           0.59      1200\n",
      "   macro avg       0.62      0.59      0.59      1200\n",
      "weighted avg       0.62      0.59      0.59      1200\n",
      "\n"
     ]
    }
   ],
   "source": [
    "from sklearn.metrics import classification_report\n",
    "\n",
    "y_true = np.argmax(y_valid, axis = 1)\n",
    "y_pred = model.predict(X_valid)\n",
    "y_pred = np.argmax(y_pred, axis=1)\n",
    "labels = [0,1,2,3]\n",
    "target_names = dict_genres.keys()\n",
    "\n",
    "print(y_true.shape, y_pred.shape)\n",
    "print(classification_report(y_true, y_pred, target_names=target_names))"
   ]
  },
  {
   "cell_type": "code",
   "execution_count": 53,
   "metadata": {
    "colab": {
     "base_uri": "https://localhost:8080/",
     "height": 34
    },
    "colab_type": "code",
    "executionInfo": {
     "elapsed": 1735284,
     "status": "ok",
     "timestamp": 1561705476492,
     "user": {
      "displayName": "chontipan plengvittaya",
      "photoUrl": "",
      "userId": "10515451504317762035"
     },
     "user_tz": -480
    },
    "id": "DEgbVnXqM2Kx",
    "outputId": "c26fbad6-5441-4100-dc32-da9b109522ec",
    "scrolled": true
   },
   "outputs": [
    {
     "name": "stdout",
     "output_type": "stream",
     "text": [
      "0.5941666666666666\n"
     ]
    }
   ],
   "source": [
    "from sklearn.metrics import accuracy_score\n",
    "\n",
    "print(accuracy_score(y_true, y_pred))"
   ]
  },
  {
   "cell_type": "markdown",
   "metadata": {
    "colab_type": "text",
    "id": "_O0Q2h2YM2K2"
   },
   "source": [
    "### Connect to Test Set"
   ]
  },
  {
   "cell_type": "code",
   "execution_count": 0,
   "metadata": {
    "colab": {},
    "colab_type": "code",
    "id": "u3cXwH-pM2K3"
   },
   "outputs": [],
   "source": [
    "from keras.models import load_model\n",
    "\n",
    "weights_path = 'models/cnn/weights.best.h5'\n",
    "model = load_model(weights_path)"
   ]
  },
  {
   "cell_type": "code",
   "execution_count": 55,
   "metadata": {
    "colab": {
     "base_uri": "https://localhost:8080/",
     "height": 50
    },
    "colab_type": "code",
    "executionInfo": {
     "elapsed": 1744255,
     "status": "ok",
     "timestamp": 1561705485513,
     "user": {
      "displayName": "chontipan plengvittaya",
      "photoUrl": "",
      "userId": "10515451504317762035"
     },
     "user_tz": -480
    },
    "id": "KgW0mwudM2K-",
    "outputId": "5c8e9d98-db80-4dcd-af45-2092bb9600c4"
   },
   "outputs": [
    {
     "name": "stdout",
     "output_type": "stream",
     "text": [
      "['arr_0', 'arr_1']\n",
      "(1200, 420, 128, 1) (1200,)\n"
     ]
    }
   ],
   "source": [
    "npzfile = np.load('loaddata/test_arr30.npz')\n",
    "print(npzfile.files)\n",
    "X_test = npzfile['arr_0']\n",
    "y_test = npzfile['arr_1']\n",
    "X_test = X_test[..., np.newaxis]\n",
    "print(X_test.shape, y_test.shape)"
   ]
  },
  {
   "cell_type": "code",
   "execution_count": 56,
   "metadata": {
    "colab": {
     "base_uri": "https://localhost:8080/",
     "height": 218
    },
    "colab_type": "code",
    "executionInfo": {
     "elapsed": 1745965,
     "status": "ok",
     "timestamp": 1561705487258,
     "user": {
      "displayName": "chontipan plengvittaya",
      "photoUrl": "",
      "userId": "10515451504317762035"
     },
     "user_tz": -480
    },
    "id": "BDeBCXTQM2LT",
    "outputId": "c3a3c650-06bb-4b8e-fcb1-511c209a4ebb"
   },
   "outputs": [
    {
     "name": "stdout",
     "output_type": "stream",
     "text": [
      "(1200,) (1200,)\n",
      "              precision    recall  f1-score   support\n",
      "\n",
      "  Electronic       0.77      0.53      0.63       300\n",
      "        Folk       0.38      0.28      0.33       300\n",
      "         Pop       0.45      0.44      0.45       300\n",
      "Instrumental       0.33      0.52      0.40       300\n",
      "\n",
      "    accuracy                           0.44      1200\n",
      "   macro avg       0.48      0.44      0.45      1200\n",
      "weighted avg       0.48      0.44      0.45      1200\n",
      "\n"
     ]
    }
   ],
   "source": [
    "from sklearn.metrics import classification_report\n",
    "\n",
    "y_true = y_test\n",
    "y_pred = model.predict(X_test)\n",
    "y_pred = np.argmax(y_pred, axis=1)\n",
    "labels = [0,1,2,3,4]\n",
    "target_names = dict_genres.keys()\n",
    "\n",
    "print(y_true.shape, y_pred.shape)\n",
    "print(classification_report(y_true, y_pred, target_names=target_names))"
   ]
  },
  {
   "cell_type": "code",
   "execution_count": 57,
   "metadata": {
    "colab": {
     "base_uri": "https://localhost:8080/",
     "height": 50
    },
    "colab_type": "code",
    "executionInfo": {
     "elapsed": 1747554,
     "status": "ok",
     "timestamp": 1561705488883,
     "user": {
      "displayName": "chontipan plengvittaya",
      "photoUrl": "",
      "userId": "10515451504317762035"
     },
     "user_tz": -480
    },
    "id": "O3qqMGcvM2Lb",
    "outputId": "dc10ac08-bfcc-416c-d54b-1e400d4373cc"
   },
   "outputs": [
    {
     "name": "stdout",
     "output_type": "stream",
     "text": [
      "1200/1200 [==============================] - 2s 1ms/step\n"
     ]
    },
    {
     "data": {
      "text/plain": [
       "[1.2981020879745484, 0.44416666666666665]"
      ]
     },
     "execution_count": 57,
     "metadata": {
      "tags": []
     },
     "output_type": "execute_result"
    }
   ],
   "source": [
    "y_test = keras.utils.to_categorical(y_test, num_classes=4)\n",
    "model.evaluate(X_test, y_test)"
   ]
  },
  {
   "cell_type": "code",
   "execution_count": 58,
   "metadata": {
    "colab": {
     "base_uri": "https://localhost:8080/",
     "height": 84
    },
    "colab_type": "code",
    "executionInfo": {
     "elapsed": 1747520,
     "status": "ok",
     "timestamp": 1561705488884,
     "user": {
      "displayName": "chontipan plengvittaya",
      "photoUrl": "",
      "userId": "10515451504317762035"
     },
     "user_tz": -480
    },
    "id": "UCsDOfafM2Lg",
    "outputId": "44306b05-8c97-4e10-aaa1-593e997d1778"
   },
   "outputs": [
    {
     "name": "stdout",
     "output_type": "stream",
     "text": [
      "[[158  13  23 106]\n",
      " [  1  85  91 123]\n",
      " [ 44  32 133  91]\n",
      " [  2  92  49 157]]\n"
     ]
    }
   ],
   "source": [
    "from sklearn.metrics import confusion_matrix\n",
    "\n",
    "print(confusion_matrix(y_true, y_pred))"
   ]
  },
  {
   "cell_type": "code",
   "execution_count": 59,
   "metadata": {
    "colab": {
     "base_uri": "https://localhost:8080/",
     "height": 34
    },
    "colab_type": "code",
    "executionInfo": {
     "elapsed": 1747487,
     "status": "ok",
     "timestamp": 1561705488884,
     "user": {
      "displayName": "chontipan plengvittaya",
      "photoUrl": "",
      "userId": "10515451504317762035"
     },
     "user_tz": -480
    },
    "id": "s34Ve8eVM2Lj",
    "outputId": "cb863098-f09b-448e-d77e-2f2382f8252b"
   },
   "outputs": [
    {
     "name": "stdout",
     "output_type": "stream",
     "text": [
      "0.44416666666666665\n"
     ]
    }
   ],
   "source": [
    "from sklearn.metrics import accuracy_score\n",
    "\n",
    "print(accuracy_score(y_true, y_pred))"
   ]
  },
  {
   "cell_type": "code",
   "execution_count": 60,
   "metadata": {
    "colab": {
     "base_uri": "https://localhost:8080/",
     "height": 285
    },
    "colab_type": "code",
    "executionInfo": {
     "elapsed": 1747935,
     "status": "ok",
     "timestamp": 1561705489370,
     "user": {
      "displayName": "chontipan plengvittaya",
      "photoUrl": "",
      "userId": "10515451504317762035"
     },
     "user_tz": -480
    },
    "id": "qhx2NFCCM2Ln",
    "outputId": "5e826d64-e41e-4b2d-c220-aa5a4bd94a46"
   },
   "outputs": [
    {
     "data": {
      "image/png": "[encoded data removed]",
      "text/plain": [
       "<Figure size 432x288 with 1 Axes>"
      ]
     },
     "metadata": {
      "tags": []
     },
     "output_type": "display_data"
    }
   ],
   "source": [
    "### 4 clusters\n",
    "from sklearn.metrics import confusion_matrix\n",
    "import seaborn as sns\n",
    "\n",
    "\n",
    "mat = confusion_matrix(y_true, y_pred)\n",
    "sns.heatmap(mat.T, square=True, annot=True, fmt='d', cbar=False,\n",
    "            xticklabels=dict_genres.keys(),\n",
    "            yticklabels=dict_genres.keys())\n",
    "plt.xlabel('true label')\n",
    "plt.ylabel('predicted label');\n"
   ]
  }
 ],
 "metadata": {
  "accelerator": "GPU",
  "colab": {
   "collapsed_sections": [],
   "name": "CNN_model_FMA.ipynb",
   "provenance": [
    {
     "file_id": "1Qiy9Gq6OfHah0QuH8yfljPmW-YKdA0Ef",
     "timestamp": 1561447947927
    }
   ],
   "version": "0.3.2"
  },
  "kernelspec": {
   "display_name": "Python 3",
   "language": "python",
   "name": "python3"
  },
  "language_info": {
   "codemirror_mode": {
    "name": "ipython",
    "version": 3
   },
   "file_extension": ".py",
   "mimetype": "text/x-python",
   "name": "python",
   "nbconvert_exporter": "python",
   "pygments_lexer": "ipython3",
   "version": "3.6.7"
  }
 },
 "nbformat": 4,
 "nbformat_minor": 1
}
