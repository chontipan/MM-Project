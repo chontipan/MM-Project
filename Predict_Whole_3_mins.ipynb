{
 "cells": [
  {
   "cell_type": "code",
   "execution_count": 1,
   "metadata": {
    "colab": {},
    "colab_type": "code",
    "id": "kJ7-PkFtydwQ"
   },
   "outputs": [],
   "source": [
    "import numpy as np\n",
    "import os\n",
    "from os.path import isfile\n",
    "\n",
    "\n",
    "import librosa\n",
    "import librosa.display\n",
    "import matplotlib.pyplot as plt\n",
    "%matplotlib inline"
   ]
  },
  {
   "cell_type": "markdown",
   "metadata": {
    "colab_type": "text",
    "id": "UTyAlwfUydwW"
   },
   "source": [
    "### Load song"
   ]
  },
  {
   "cell_type": "code",
   "execution_count": 2,
   "metadata": {
    "colab": {},
    "colab_type": "code",
    "id": "3qGea2HkydwX"
   },
   "outputs": [],
   "source": [
    "dict_genres = {'Electronic':0,  'Folk':1,  'Pop' :2, 'Instrumental':3 }\n",
    "\n",
    "\n",
    "reverse_map = {v: k for k, v in dict_genres.items()}\n",
    "#print(reverse_map)"
   ]
  },
  {
   "cell_type": "code",
   "execution_count": 3,
   "metadata": {
    "colab": {
     "base_uri": "https://localhost:8080/",
     "height": 50
    },
    "colab_type": "code",
    "id": "WeVET0va7-SK",
    "outputId": "c881429a-fe00-40f1-b489-43b5e0fc3512"
   },
   "outputs": [
    {
     "name": "stdout",
     "output_type": "stream",
     "text": [
      "PSY - GANGNAM STYLE(강남스타일) MV.mp3\n",
      "(18, 420, 128)\n"
     ]
    }
   ],
   "source": [
    "import IPython.display as ipd\n",
    "files = os.listdir(os.path.join(\"predict\"))\n",
    "#print(files)\n",
    "\n",
    "time=420\n",
    "freq=128\n",
    "arr_specs=list()\n",
    "#X_spect = np.empty((0, time, freq))\n",
    "X_spect = np.empty((0, time))\n",
    "songs=[]\n",
    "for fname in files:\n",
    "  print(fname)\n",
    "  count=0\n",
    "  for index in range(18):\n",
    "  \n",
    "    y,sr=librosa.load(os.path.join(\"predict\",fname),duration=10,offset=index*10)\n",
    "    spect = librosa.feature.melspectrogram(y=y, sr=sr,n_fft=2048, hop_length=512)\n",
    "    spect = librosa.power_to_db(spect, ref=np.max)\n",
    "    spect = spect[:freq, :time]\n",
    "    spect=spect.T\n",
    "    songs.append(y)\n",
    "    arr_specs.append(spect)  \n",
    "    X_spect=np.array(arr_specs) \n",
    "  \n",
    "  \n",
    "print(X_spect.shape)  "
   ]
  },
  {
   "cell_type": "code",
   "execution_count": 4,
   "metadata": {
    "colab": {
     "base_uri": "https://localhost:8080/",
     "height": 440
    },
    "colab_type": "code",
    "id": "eLIftJEEydwh",
    "outputId": "90b03b75-2901-4e6a-a235-5ebe9c03a398"
   },
   "outputs": [
    {
     "name": "stderr",
     "output_type": "stream",
     "text": [
      "Using TensorFlow backend.\n"
     ]
    }
   ],
   "source": [
    "from keras.models import load_model\n",
    "\n",
    "weights_path = 'models/crnn/last_weights.best.h5'\n",
    "model_crnn = load_model(weights_path)\n",
    "\n",
    "weights_path = 'models/parallel/last_weights.best.h5'\n",
    "model_prcnn = load_model(weights_path)\n",
    "\n",
    "weights_path = 'models/cnn/weights.best.h5'\n",
    "model_cnn = load_model(weights_path)\n"
   ]
  },
  {
   "cell_type": "code",
   "execution_count": 5,
   "metadata": {
    "colab": {
     "base_uri": "https://localhost:8080/",
     "height": 34
    },
    "colab_type": "code",
    "id": "UacFdmqV_s5V",
    "outputId": "27d071f8-6bd3-473a-f069-0180e0cc5fb2"
   },
   "outputs": [
    {
     "name": "stdout",
     "output_type": "stream",
     "text": [
      "(18, 420, 128)\n"
     ]
    }
   ],
   "source": [
    "x_test=X_spect\n",
    "\n",
    "print(x_test.shape)"
   ]
  },
  {
   "cell_type": "code",
   "execution_count": 6,
   "metadata": {
    "colab": {},
    "colab_type": "code",
    "id": "3-xpmqmX_Uge"
   },
   "outputs": [],
   "source": [
    "y_pred_crnn = model_crnn.predict(x_test)\n",
    "#print(y_pred.shape)\n",
    "x_test = x_test.reshape(x_test.shape[0],x_test.shape[1],x_test.shape[2],1)\n",
    "y_pred_prcnn = model_prcnn.predict(x_test)\n",
    "y_pred_cnn = model_cnn.predict(x_test)"
   ]
  },
  {
   "cell_type": "code",
   "execution_count": 7,
   "metadata": {
    "colab": {},
    "colab_type": "code",
    "id": "E_0Rk9uFG6jU"
   },
   "outputs": [],
   "source": [
    "res_list=[]\n",
    "res_one=[]\n",
    "#res_print[]\n",
    "def pred(y_pred):\n",
    "  total=0\n",
    "  result={}\n",
    "  count=0\n",
    "  #result=[]\n",
    "  for j in y_pred:\n",
    "    total+=j\n",
    "  for j in y_pred:  \n",
    "    result[reverse_map[count]]=j/total \n",
    "    count=count+1\n",
    "  labels=sorted(result.items(), key=lambda x: x[1], reverse=True)\n",
    "  for x in labels[:2:]:\n",
    "     res_list.append(x[0])\n",
    "  #for x in labels[0:]:\n",
    "    #print(x)  \n",
    "  for x in labels[:1:]:\n",
    "    res_one.append(x[0])"
   ]
  },
  {
   "cell_type": "code",
   "execution_count": 8,
   "metadata": {},
   "outputs": [
    {
     "name": "stdout",
     "output_type": "stream",
     "text": [
      "CNN prediction\n"
     ]
    }
   ],
   "source": [
    "print(\"CNN prediction\")\n",
    "for i in y_pred_cnn:\n",
    "  pred(i)\n",
    "  #print(\"\\n\")"
   ]
  },
  {
   "cell_type": "code",
   "execution_count": 9,
   "metadata": {},
   "outputs": [
    {
     "name": "stdout",
     "output_type": "stream",
     "text": [
      "Top 2 genres predicton: {'Electronic': 18, 'Instrumental': 12, 'Pop': 6}\n",
      "Top one genre prediction {'Electronic': 18}\n"
     ]
    }
   ],
   "source": [
    "import collections\n",
    "from collections import Counter\n",
    "\n",
    "x=list(Counter(res_list).keys())\n",
    "y=list(Counter(res_list).values())\n",
    "\n",
    "result_2=dict(zip(x, y))\n",
    "result_1=dict(zip(Counter(res_one).keys(), Counter(res_one).values()))\n",
    "\n",
    "print(\"Top 2 genres predicton:\",result_2)\n",
    "print(\"Top one genre prediction\",result_1)"
   ]
  },
  {
   "cell_type": "markdown",
   "metadata": {},
   "source": [
    "### CRNN Prediction"
   ]
  },
  {
   "cell_type": "code",
   "execution_count": 10,
   "metadata": {
    "colab": {
     "base_uri": "https://localhost:8080/",
     "height": 1000
    },
    "colab_type": "code",
    "id": "xRgzBhXarpfj",
    "outputId": "79466803-728f-43fc-81f8-82ff75a880e7"
   },
   "outputs": [
    {
     "name": "stdout",
     "output_type": "stream",
     "text": [
      "CRNN prediction\n"
     ]
    }
   ],
   "source": [
    "\n",
    "res_list=[]\n",
    "res_one=[]\n",
    "\n",
    "print(\"CRNN prediction\")\n",
    "for i in y_pred_crnn:\n",
    "  pred(i)\n",
    "  #print(\"\\n\")"
   ]
  },
  {
   "cell_type": "markdown",
   "metadata": {},
   "source": [
    "### Top 1,2 Genres Prediction"
   ]
  },
  {
   "cell_type": "code",
   "execution_count": 11,
   "metadata": {
    "colab": {
     "base_uri": "https://localhost:8080/",
     "height": 50
    },
    "colab_type": "code",
    "id": "Jg4HKLmTltp0",
    "outputId": "9f9a1bac-dcb9-4ca1-b8b6-4c630ab9cfed"
   },
   "outputs": [
    {
     "name": "stdout",
     "output_type": "stream",
     "text": [
      "Top 2 genres predicton: {'Instrumental': 6, 'Electronic': 17, 'Pop': 13}\n",
      "Top one genre prediction {'Instrumental': 1, 'Electronic': 16, 'Pop': 1}\n"
     ]
    }
   ],
   "source": [
    "import collections\n",
    "from collections import Counter\n",
    "\n",
    "x=list(Counter(res_list).keys())\n",
    "y=list(Counter(res_list).values())\n",
    "\n",
    "result_2=dict(zip(x, y))\n",
    "result_1=dict(zip(Counter(res_one).keys(), Counter(res_one).values()))\n",
    "\n",
    "print(\"Top 2 genres predicton:\",result_2)\n",
    "print(\"Top one genre prediction\",result_1)"
   ]
  },
  {
   "cell_type": "markdown",
   "metadata": {},
   "source": [
    "### Plot Top 2 Genres Prediction"
   ]
  },
  {
   "cell_type": "code",
   "execution_count": 12,
   "metadata": {
    "colab": {
     "base_uri": "https://localhost:8080/",
     "height": 499
    },
    "colab_type": "code",
    "id": "N0_XCdy3mzN2",
    "outputId": "26054369-a1ec-449d-90bf-aca5b8f4f358"
   },
   "outputs": [
    {
     "data": {
      "image/png": "[encoded data removed]",
      "text/plain": [
       "<Figure size 576x576 with 1 Axes>"
      ]
     },
     "metadata": {
      "needs_background": "light"
     },
     "output_type": "display_data"
    }
   ],
   "source": [
    "import matplotlib.pyplot as plt\n",
    "D = result_2\n",
    "plt.figure(figsize=(8,8))\n",
    "plt.bar(range(len(D)), list(D.values()), align='center')\n",
    "plt.xticks(range(len(D)), list(D.keys()))\n",
    "plt.title(\"CRNN Top-2 prediction\")\n",
    "plt.show()"
   ]
  },
  {
   "cell_type": "markdown",
   "metadata": {},
   "source": [
    "### PRCNN Prediction"
   ]
  },
  {
   "cell_type": "code",
   "execution_count": 13,
   "metadata": {
    "colab": {
     "base_uri": "https://localhost:8080/",
     "height": 1000
    },
    "colab_type": "code",
    "id": "Zs8hZGiOkabx",
    "outputId": "a6d639e9-b7de-4a5a-9f05-07ab3a5011da"
   },
   "outputs": [
    {
     "name": "stdout",
     "output_type": "stream",
     "text": [
      "PRCNN prediction\n"
     ]
    }
   ],
   "source": [
    "print(\"PRCNN prediction\")\n",
    "res_list=[]\n",
    "res_one=[]\n",
    "for i in y_pred_prcnn:\n",
    "  pred(i)\n",
    "  #print(\"\\n\")"
   ]
  },
  {
   "cell_type": "markdown",
   "metadata": {},
   "source": [
    "### Top 1,2 Genres Prediction"
   ]
  },
  {
   "cell_type": "code",
   "execution_count": 14,
   "metadata": {
    "colab": {
     "base_uri": "https://localhost:8080/",
     "height": 50
    },
    "colab_type": "code",
    "id": "FC3LcM0cOSRt",
    "outputId": "c5002969-178e-4879-b104-3b555defc7a4"
   },
   "outputs": [
    {
     "name": "stdout",
     "output_type": "stream",
     "text": [
      "Top 2 genres predicton: {'Folk': 2, 'Instrumental': 11, 'Electronic': 7, 'Pop': 16}\n",
      "Top one genre prediction {'Folk': 2, 'Instrumental': 3, 'Electronic': 1, 'Pop': 12}\n"
     ]
    }
   ],
   "source": [
    "from collections import Counter\n",
    "import collections\n",
    "x=list(Counter(res_list).keys())\n",
    "y=list(Counter(res_list).values())\n",
    "\n",
    "result_2=dict(zip(x, y))\n",
    "result_1=dict(zip(Counter(res_one).keys(), Counter(res_one).values()))\n",
    "\n",
    "\n",
    "print(\"Top 2 genres predicton:\",result_2)\n",
    "print(\"Top one genre prediction\",result_1)"
   ]
  },
  {
   "cell_type": "markdown",
   "metadata": {},
   "source": [
    "### Plot Top 2 Genres Prediction"
   ]
  },
  {
   "cell_type": "code",
   "execution_count": 15,
   "metadata": {
    "colab": {
     "base_uri": "https://localhost:8080/",
     "height": 499
    },
    "colab_type": "code",
    "id": "JsJMRvJGmteW",
    "outputId": "2f74333e-aafa-4b4f-ffed-6647c11767c9"
   },
   "outputs": [
    {
     "data": {
      "image/png": "[encoded data removed]",
      "text/plain": [
       "<Figure size 576x576 with 1 Axes>"
      ]
     },
     "metadata": {
      "needs_background": "light"
     },
     "output_type": "display_data"
    }
   ],
   "source": [
    "import matplotlib.pyplot as plt\n",
    "D = result_2\n",
    "plt.figure(figsize=(8,8))\n",
    "plt.bar(range(len(D)), list(D.values()), align='center')\n",
    "plt.xticks(range(len(D)), list(D.keys()))\n",
    "plt.title(\"PRCNN Top-2 prediction\")\n",
    "plt.show()"
   ]
  }
 ],
 "metadata": {
  "accelerator": "GPU",
  "colab": {
   "collapsed_sections": [],
   "name": "Predict_3mins.pynb",
   "provenance": [],
   "version": "0.3.2"
  },
  "kernelspec": {
   "display_name": "Python 3",
   "language": "python",
   "name": "python3"
  },
  "language_info": {
   "codemirror_mode": {
    "name": "ipython",
    "version": 3
   },
   "file_extension": ".py",
   "mimetype": "text/x-python",
   "name": "python",
   "nbconvert_exporter": "python",
   "pygments_lexer": "ipython3",
   "version": "3.6.7"
  }
 },
 "nbformat": 4,
 "nbformat_minor": 1
}
